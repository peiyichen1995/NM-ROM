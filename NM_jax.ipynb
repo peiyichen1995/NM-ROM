{
 "cells": [
  {
   "cell_type": "code",
   "execution_count": null,
   "metadata": {},
   "outputs": [],
   "source": [
    "import jax.numpy as jnp\n",
    "import numpy as np\n",
    "\n",
    "import jax\n",
    "from jax import nn as jnn\n",
    "from jax import random\n",
    "\n",
    "from flax import linen as nn\n",
    "from flax import optim\n",
    "\n",
    "import optax\n",
    "\n",
    "import h5py\n",
    "from fenics import *\n",
    "\n",
    "from typing import Sequence\n",
    "\n",
    "import matplotlib.pyplot as plt\n",
    "\n",
    "import basix\n",
    "from basix import ElementFamily, CellType, LagrangeVariant\n",
    "\n",
    "from scipy.optimize import least_squares, fsolve\n",
    "\n",
    "# again, this only works on startup!\n",
    "from jax.config import config\n",
    "config.update(\"jax_enable_x64\", True)"
   ]
  },
  {
   "cell_type": "code",
   "execution_count": null,
   "metadata": {},
   "outputs": [],
   "source": [
    "def read_mesh_and_function(file_name, var_name):\n",
    "\n",
    "    # Open solution file\n",
    "    infile = XDMFFile(file_name + \".xdmf\")\n",
    "    infile_h5 = h5py.File(file_name + \".h5\", \"r\")\n",
    "    t_steps = len(infile_h5[var_name].keys())\n",
    "\n",
    "    # Read in mesh\n",
    "    mesh = Mesh()\n",
    "    infile.read(mesh)\n",
    "\n",
    "    # Read function\n",
    "    V = FunctionSpace(mesh, \"CG\", 1)\n",
    "    u = Function(V)\n",
    "    solution = np.zeros((V.dim(), t_steps))\n",
    "    for i in range(t_steps):\n",
    "        infile.read_checkpoint(u, var_name, i - t_steps + 1)\n",
    "        solution[:, i] = u.vector().get_local()\n",
    "\n",
    "    # Clean up\n",
    "    infile.close()\n",
    "    infile_h5.close()\n",
    "\n",
    "    return mesh, solution\n",
    "    \n",
    "nu = 0.1\n",
    "A = 0.5\n",
    "mesh, u_ref = read_mesh_and_function(\"output/burgers_1D/nu_\"+str(nu)+\"/FOM\", \"u\")\n",
    "u_ref = u_ref.T"
   ]
  },
  {
   "cell_type": "code",
   "execution_count": null,
   "metadata": {},
   "outputs": [],
   "source": [
    "time_steps, N = u_ref.shape\n",
    "u_train = u_ref[np.arange(0,time_steps,10)]\n",
    "n = 15\n",
    "M1 = 100\n",
    "M2 = 100\n",
    "n_epoch = 5000"
   ]
  },
  {
   "cell_type": "code",
   "execution_count": null,
   "metadata": {},
   "outputs": [],
   "source": [
    "class Encoder(nn.Module):\n",
    "    latents: Sequence[int]\n",
    "    \n",
    "    @nn.compact\n",
    "    def __call__(self, x):\n",
    "        x = nn.Dense(self.latents[0],dtype=jnp.float64,param_dtype=jnp.float64)(x)\n",
    "        x = nn.swish(x)\n",
    "        xr = nn.Dense(self.latents[1],dtype=jnp.float64,param_dtype=jnp.float64)(x)\n",
    "        return xr"
   ]
  },
  {
   "cell_type": "code",
   "execution_count": null,
   "metadata": {},
   "outputs": [],
   "source": [
    "def gaussian_kernel(window_size, sigma):\n",
    "    mu = window_size / 2\n",
    "    x = jnp.arange(window_size)\n",
    "    window = jnp.exp((-((x-mu)**2))/(2*sigma**2))/sigma/jnp.sqrt(2*jnp.pi)\n",
    "    return window\n",
    "\n",
    "class Decoder(nn.Module):\n",
    "    latents: Sequence[int]\n",
    "    \n",
    "    @nn.compact\n",
    "    def __call__(self, x):\n",
    "        x = nn.Dense(self.latents[0],dtype=jnp.float64,param_dtype=jnp.float64)(x)\n",
    "        x = nn.swish(x)\n",
    "        x = nn.Dense(self.latents[1],dtype=jnp.float64,param_dtype=jnp.float64)(x)\n",
    "        \n",
    "        window_size = len(x)\n",
    "        sigma0 = window_size / 5 / 6\n",
    "        sigma = self.param('sigma', lambda key : sigma0)\n",
    "\n",
    "        window = gaussian_kernel(window_size, sigma)\n",
    "        x = jnp.convolve(x, window, mode='same')\n",
    "        return x"
   ]
  },
  {
   "cell_type": "code",
   "execution_count": null,
   "metadata": {},
   "outputs": [],
   "source": [
    "class VAE(nn.Module):\n",
    "    encoder_latents: Sequence[int]\n",
    "    decoder_latents: Sequence[int]\n",
    "\n",
    "    def setup(self):\n",
    "        self.encoder = Encoder(self.encoder_latents)\n",
    "        self.decoder = Decoder(self.decoder_latents)\n",
    "    \n",
    "    def encode(self, x):\n",
    "        return self.encoder(x)\n",
    "\n",
    "    def decode(self, x):\n",
    "        return self.decoder(x)\n",
    "\n",
    "    def __call__(self, x):\n",
    "        return self.decode(self.encode(x))\n",
    "\n",
    "def model():\n",
    "    return VAE(encoder_latents=[M1,n],decoder_latents=[M2,N])"
   ]
  },
  {
   "cell_type": "code",
   "execution_count": null,
   "metadata": {},
   "outputs": [],
   "source": [
    "@jax.jit\n",
    "def loss_fn(params, x):\n",
    "    xt = jax.vmap(model().apply, in_axes=(None, 0))(params, x)\n",
    "    errors = jax.vmap(rel_err, in_axes=(0,0), out_axes=0)(x,xt)\n",
    "    l = jnp.sum(errors**2)/time_steps\n",
    "    return l\n",
    "\n",
    "def rel_err(x, xt):\n",
    "    return jnp.linalg.norm(x-xt)\n",
    "\n",
    "params = model().init(random.PRNGKey(0), u_train[0])\n",
    "tx = optax.adam(0.001)\n",
    "opt_state = tx.init(params)\n",
    "loss_grad_fn = jax.value_and_grad(loss_fn)\n",
    "min_loss = 100\n",
    "best_params = params"
   ]
  },
  {
   "cell_type": "code",
   "execution_count": null,
   "metadata": {},
   "outputs": [],
   "source": [
    "for i in range(n_epoch):\n",
    "    loss_val, grads = loss_grad_fn(params, u_train)\n",
    "    if loss_val < min_loss:\n",
    "        min_loss = loss_val\n",
    "        best_params = params\n",
    "    updates, opt_state = tx.update(grads, opt_state)\n",
    "    params = optax.apply_updates(params, updates)\n",
    "    if i % 10 == 0:\n",
    "        print('Loss step {}: '.format(i), loss_val)\n",
    "    if loss_val < 1e-6:\n",
    "        break\n",
    "params = best_params"
   ]
  },
  {
   "cell_type": "code",
   "execution_count": null,
   "metadata": {},
   "outputs": [],
   "source": [
    "params['params']['decoder']"
   ]
  },
  {
   "cell_type": "code",
   "execution_count": null,
   "metadata": {},
   "outputs": [],
   "source": [
    "u_ref_encoded = model().apply(params, u_ref[0], method=VAE.encode)\n",
    "Phi = jax.jacobian(model().apply, argnums=1)(params, u_ref_encoded, method=VAE.decode)\n",
    "plt.plot(Phi.T[2])"
   ]
  },
  {
   "cell_type": "code",
   "execution_count": null,
   "metadata": {},
   "outputs": [],
   "source": [
    "plt.figure(figsize=(20, 6), dpi=80)\n",
    "plt.plot(u_ref[400])\n",
    "plt.plot(model().apply(params, u_ref[400]))"
   ]
  },
  {
   "cell_type": "code",
   "execution_count": null,
   "metadata": {},
   "outputs": [],
   "source": [
    "t_start = 0.0\n",
    "t_final = 0.5\n",
    "t_steps = 500\n",
    "t_sequence = np.linspace(t_start, t_final, t_steps + 1)\n",
    "dt = (t_final - t_start) / t_steps\n",
    "\n",
    "V = FunctionSpace(mesh, \"CG\", 1)"
   ]
  },
  {
   "cell_type": "code",
   "execution_count": null,
   "metadata": {},
   "outputs": [],
   "source": [
    "nelem = mesh.num_cells()\n",
    "\n",
    "# Per element\n",
    "nqp = 2\n",
    "ndof = 2\n",
    "nvertex = 2\n",
    "nnode = 2\n",
    "ndim = 2\n",
    "\n",
    "# Data structure to be computed per element\n",
    "dof_map = np.zeros((nelem,ndof), dtype=int)\n",
    "JxW = np.zeros((nelem,nqp))\n",
    "grad_test = np.zeros((nelem,nqp,nnode,ndim))\n",
    "\n",
    "lagrange = basix.create_element(ElementFamily.P, CellType.interval, 1, LagrangeVariant.equispaced)\n",
    "ref_points, weights = basix.make_quadrature(CellType.interval, 2)\n",
    "test, ref_grad_test = lagrange.tabulate(1, ref_points)\n",
    "test = test.reshape(2,2)\n",
    "ref_grad_test = ref_grad_test.reshape(2,2)\n",
    "\n",
    "for e in range(nelem):\n",
    "    cell = Cell(mesh, e)\n",
    "    dof_map[e] = V.dofmap().cell_dofs(e)\n",
    "    coordinates = np.array(cell.get_coordinate_dofs()).reshape(2,2)\n",
    "    for qp,weight in enumerate(weights):\n",
    "        J = jnp.matmul(ref_grad_test[qp], coordinates)\n",
    "        detJ = jnp.sqrt(jnp.dot(J, J))\n",
    "        JxW[e][qp] = detJ*weight\n",
    "        grad_test[e][qp] = jnp.vstack((ref_grad_test[qp]/detJ, jnp.zeros((1,2)))).T\n",
    "\n",
    "dof_map = jnp.array(dof_map)\n",
    "JxW = jnp.array(JxW)\n",
    "grad_test = jnp.array(grad_test)"
   ]
  },
  {
   "cell_type": "code",
   "execution_count": null,
   "metadata": {},
   "outputs": [],
   "source": [
    "def local_residual(dofs,JxW,test,grad_test,ut,ut_old):\n",
    "    local_re = jnp.zeros((N,))\n",
    "    for i in range(nnode):\n",
    "        r = 0\n",
    "        for qp in range(nqp):\n",
    "            u = jnp.dot(test[qp], ut[dofs])\n",
    "            u_old = jnp.dot(test[qp], ut_old[dofs])\n",
    "            grad_u = jnp.matmul(ut[dofs], grad_test[qp])\n",
    "            r = r + (test[qp][i]*(u-u_old)/dt+nu*jnp.dot(grad_test[qp][i],grad_u)+test[qp][i]*grad_u[0]*u) * JxW[qp]\n",
    "        local_re = local_re.at[dofs[i]].set(r)\n",
    "    return local_re"
   ]
  },
  {
   "cell_type": "code",
   "execution_count": null,
   "metadata": {},
   "outputs": [],
   "source": [
    "def objective(ur, ur_old, params):\n",
    "    ut = model().apply(params, ur, method=VAE.decode)\n",
    "    ut_old = model().apply(params, ur_old, method=VAE.decode)\n",
    "    local_res = jax.vmap(local_residual, in_axes=(0,0,None,0,None,None), out_axes=0)(dof_map,JxW,test,grad_test,ut,ut_old)\n",
    "    r = jnp.sum(local_res,axis=0)\n",
    "    return 0.5*jnp.dot(r,r)\n",
    "\n",
    "residual = jax.grad(objective)\n",
    "\n",
    "# def residual(ur, ur_old, params):\n",
    "#     ut = model().apply(params, ur, method=VAE.decode)\n",
    "#     ut_old = model().apply(params, ur_old, method=VAE.decode)\n",
    "#     local_res = jax.vmap(local_residual, in_axes=(0,0,None,0,None,None), out_axes=0)(dof_map,JxW,test,grad_test,ut,ut_old)\n",
    "#     r = jnp.sum(local_res,axis=0)\n",
    "#     return r\n",
    "\n",
    "jacobian = jax.jacfwd(residual)"
   ]
  },
  {
   "cell_type": "code",
   "execution_count": null,
   "metadata": {},
   "outputs": [],
   "source": [
    "def solve(u, u_old, nl_max_its=10, RTOL=1e-6, ATOL=1e-8):\n",
    "    def converged(r, r0):\n",
    "        if jnp.linalg.norm(r) < ATOL:\n",
    "            return True\n",
    "        if jnp.linalg.norm(r) < RTOL * jnp.linalg.norm(r0):\n",
    "            return True\n",
    "        return False\n",
    "\n",
    "    r = residual(u, u_old, params)\n",
    "    r0 = r\n",
    "    for itr in range(nl_max_its):\n",
    "        print('Itr = {:}, |R| = {:.3E}'.format(itr, jnp.linalg.norm(r)))\n",
    "\n",
    "        if converged(r, r0):\n",
    "            return u\n",
    "        \n",
    "        J = jacobian(u, u_old, params)\n",
    "\n",
    "        du = - jnp.matmul(jnp.linalg.inv(J), r)\n",
    "        u = u + du\n",
    "        r = residual(u, u_old, params)\n",
    "\n",
    "    return u"
   ]
  },
  {
   "cell_type": "code",
   "execution_count": null,
   "metadata": {},
   "outputs": [],
   "source": [
    "u_approx = np.zeros((t_steps,N))\n",
    "\n",
    "u0 = Function(V)\n",
    "u0_expr = Expression(\n",
    "    \"x[0] < 1 ? 1+A*(sin(2*pi*x[0]-pi/2)+1) : 1\", degree=1, A=A)\n",
    "u0.interpolate(u0_expr)\n",
    "\n",
    "ur0 = model().apply(params, u0.vector().get_local(), method=VAE.encode)\n",
    "ur = ur0\n",
    "\n",
    "def residual_helper(ur, ur_old, params):\n",
    "    return np.array(residual(ur, ur_old, params))\n",
    "\n",
    "def jacobian_helper(ur, ur_old, params):\n",
    "    return np.array(jacobian(ur, ur_old, params))\n",
    "\n",
    "from IPython.display import clear_output\n",
    "\n",
    "for i, t in enumerate(t_sequence):\n",
    "    if i % 2 == 0:\n",
    "        clear_output(wait=True)\n",
    "    print('\\nstep = {}, t = {}'.format(i, t))\n",
    "    ur_old = np.array(ur)\n",
    "    ur = solve(ur, ur_old, nl_max_its=10)\n",
    "    # res = least_squares(residual_helper, ur, jac=jacobian_helper, loss='soft_l1', tr_solver='exact', args=(ur_old, params), verbose=2)\n",
    "    # ur = res.x\n",
    "    # ur,_,_,mesg = fsolve(residual_helper, ur, fprime=jacobian_helper, args=(ur_old, params), full_output=True)\n",
    "    # print('|R| = {:}, {:}'.format(jnp.linalg.norm(residual(ur, ur_old, params)), mesg))\n",
    "    u_approx[i] = model().apply(params, ur, method=VAE.decode)"
   ]
  },
  {
   "cell_type": "code",
   "execution_count": 24,
   "metadata": {},
   "outputs": [
    {
     "data": {
      "image/png": "[encoded data removed]",
      "text/plain": [
       "<Figure size 432x288 with 2 Axes>"
      ]
     },
     "metadata": {
      "needs_background": "light"
     },
     "output_type": "display_data"
    }
   ],
   "source": [
    "fig, ax = plt.subplots()\n",
    "im = ax.imshow(u_approx[0:100].T, aspect='auto', cmap='jet', vmin=1, vmax=2)\n",
    "cb = fig.colorbar(im)"
   ]
  },
  {
   "cell_type": "code",
   "execution_count": 23,
   "metadata": {},
   "outputs": [
    {
     "data": {
      "image/png": "[encoded data removed]",
      "text/plain": [
       "<Figure size 432x288 with 2 Axes>"
      ]
     },
     "metadata": {
      "needs_background": "light"
     },
     "output_type": "display_data"
    }
   ],
   "source": [
    "fig, ax = plt.subplots()\n",
    "im = ax.imshow(u_ref[0:100].T, aspect='auto', cmap='jet', vmin=1, vmax=2)\n",
    "cb = fig.colorbar(im)"
   ]
  }
 ],
 "metadata": {
  "interpreter": {
   "hash": "c8475a232b822aed66d3bbbb71d7fb1340252d4f7b77b0b9050f60cc7b3f466a"
  },
  "kernelspec": {
   "display_name": "Python 3.10.2 ('fenics')",
   "language": "python",
   "name": "python3"
  },
  "language_info": {
   "codemirror_mode": {
    "name": "ipython",
    "version": 3
   },
   "file_extension": ".py",
   "mimetype": "text/x-python",
   "name": "python",
   "nbconvert_exporter": "python",
   "pygments_lexer": "ipython3",
   "version": "3.10.2"
  },
  "orig_nbformat": 4
 },
 "nbformat": 4,
 "nbformat_minor": 2
}
