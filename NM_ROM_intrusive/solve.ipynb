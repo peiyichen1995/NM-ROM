{
 "cells": [
  {
   "cell_type": "code",
   "execution_count": 1,
   "metadata": {},
   "outputs": [
    {
     "name": "stderr",
     "output_type": "stream",
     "text": [
      "2022-03-22 18:15:06.334743: W external/org_tensorflow/tensorflow/stream_executor/platform/default/dso_loader.cc:64] Could not load dynamic library 'libcudart.so.11.0'; dlerror: libcudart.so.11.0: cannot open shared object file: No such file or directory\n",
      "2022-03-22 18:15:06.508242: W external/org_tensorflow/tensorflow/stream_executor/platform/default/dso_loader.cc:64] Could not load dynamic library 'libcudart.so.11.0'; dlerror: libcudart.so.11.0: cannot open shared object file: No such file or directory\n",
      "2022-03-22 18:15:06.511658: W external/org_tensorflow/tensorflow/stream_executor/platform/default/dso_loader.cc:64] Could not load dynamic library 'libcudart.so.11.0'; dlerror: libcudart.so.11.0: cannot open shared object file: No such file or directory\n",
      "2022-03-22 18:15:07.344564: W tensorflow/stream_executor/platform/default/dso_loader.cc:64] Could not load dynamic library 'libcudart.so.11.0'; dlerror: libcudart.so.11.0: cannot open shared object file: No such file or directory\n",
      "hwloc/linux: Ignoring PCI device with non-16bit domain.\n",
      "Pass --enable-32bits-pci-domain to configure to support such devices\n",
      "(warning: it would break the library ABI, don't enable unless really needed).\n"
     ]
    }
   ],
   "source": [
    "from flax.training import train_state, checkpoints\n",
    "from flax.core.frozen_dict import FrozenDict\n",
    "import jax.numpy as jnp\n",
    "import numpy as np\n",
    "\n",
    "import jax\n",
    "from jax import nn as jnn\n",
    "from jax import random\n",
    "\n",
    "from functools import partial\n",
    "\n",
    "from flax import linen as nn\n",
    "from flax import optim\n",
    "\n",
    "import optax\n",
    "\n",
    "import h5py\n",
    "from fenics import *\n",
    "\n",
    "from typing import Sequence\n",
    "\n",
    "import matplotlib\n",
    "import matplotlib.pyplot as plt\n",
    "\n",
    "import basix\n",
    "from basix import ElementFamily, CellType, LagrangeVariant\n",
    "\n",
    "import os\n",
    "\n",
    "# again, this only works on startup!\n",
    "from jax.config import config\n",
    "config.update(\"jax_enable_x64\", True)\n",
    "\n",
    "from IPython import display"
   ]
  },
  {
   "cell_type": "code",
   "execution_count": 2,
   "metadata": {},
   "outputs": [],
   "source": [
    "def read_mesh_and_function(file_name, var_name):\n",
    "\n",
    "    # Open solution file\n",
    "    infile = XDMFFile(file_name + \".xdmf\")\n",
    "    infile_h5 = h5py.File(file_name + \".h5\", \"r\")\n",
    "    t_steps = len(infile_h5[var_name].keys())\n",
    "\n",
    "    # Read in mesh\n",
    "    mesh = Mesh()\n",
    "    infile.read(mesh)\n",
    "\n",
    "    # Read function\n",
    "    V = FunctionSpace(mesh, \"CG\", 1)\n",
    "    u = Function(V)\n",
    "    solution = np.zeros((V.dim(), t_steps))\n",
    "    for i in range(t_steps):\n",
    "        infile.read_checkpoint(u, var_name, i - t_steps + 1)\n",
    "        solution[:, i] = u.vector().get_local()\n",
    "\n",
    "    # Clean up\n",
    "    infile.close()\n",
    "    infile_h5.close()\n",
    "\n",
    "    return mesh, solution\n",
    "\n",
    "\n",
    "nu = 0.001\n",
    "A = 0.5\n",
    "mesh, u_ref = read_mesh_and_function(\n",
    "    \"../output/burgers_1D/nu_\" + str(nu) + \"/FOM\", \"u\")\n",
    "u_ref = u_ref.T\n",
    "V = FunctionSpace(mesh, \"CG\", 1)\n",
    "\n",
    "time_steps, N = u_ref.shape\n",
    "n = 20\n",
    "M1 = 100\n",
    "M2 = N\n",
    "n_sigmas = 20\n",
    "\n",
    "from model_definition import *\n",
    "\n",
    "def model():\n",
    "    return VAE(encoder_latents=[M1], decoder_latents=[M2], N=N, n=n, n_sigmas=n_sigmas)"
   ]
  },
  {
   "cell_type": "code",
   "execution_count": 3,
   "metadata": {},
   "outputs": [
    {
     "name": "stderr",
     "output_type": "stream",
     "text": [
      "2022-03-22 18:15:54.357595: E external/org_tensorflow/tensorflow/stream_executor/cuda/cuda_driver.cc:271] failed call to cuInit: CUDA_ERROR_NO_DEVICE: no CUDA-capable device is detected\n",
      "WARNING:absl:No GPU/TPU found, falling back to CPU. (Set TF_CPP_MIN_LOG_LEVEL=0 and rerun for more info.)\n"
     ]
    }
   ],
   "source": [
    "params = model().init(random.PRNGKey(0), u_ref[0])\n",
    "tx = optax.adam(0.001)\n",
    "state = train_state.TrainState.create(apply_fn=model().apply,\n",
    "                                      params=params,\n",
    "                                      tx=tx)\n",
    "CKPT_DIR = \"nu_\" + str(nu) + \"_n_\" + str(n) + \"_n_sigmas_\" + str(n_sigmas)\n",
    "restored_state = checkpoints.restore_checkpoint(\n",
    "    ckpt_dir=CKPT_DIR, target=state)\n",
    "params = params.copy(restored_state.params)"
   ]
  },
  {
   "cell_type": "code",
   "execution_count": 5,
   "metadata": {},
   "outputs": [],
   "source": [
    "fig_dir = \"figures/\"\n",
    "if not os.path.isdir(fig_dir):\n",
    "    os.makedirs(fig_dir)\n",
    "plt.rcParams.update({'font.size': 16})"
   ]
  },
  {
   "cell_type": "code",
   "execution_count": 6,
   "metadata": {},
   "outputs": [
    {
     "name": "stdout",
     "output_type": "stream",
     "text": [
      "frame 0\n",
      "frame 0\n",
      "frame 100\n",
      "frame 200\n",
      "frame 300\n",
      "frame 400\n",
      "frame 500\n"
     ]
    }
   ],
   "source": [
    "from matplotlib.animation import FuncAnimation\n",
    "\n",
    "fig = plt.figure(figsize=(6, 8))\n",
    "(ax1, ax2) = fig.subplots(2, 1, sharex=True)\n",
    "lines1 = ax1.plot([])\n",
    "ax1.set_xlim(0, 2)\n",
    "ax1.set_ylim(0.5, 2.5)\n",
    "lines2 = ax2.plot(np.empty((0, 3)), np.empty((0, 3)))\n",
    "ax2.set_xlim(0, 2)\n",
    "ax2.set_ylim(-0.3, 0.3)\n",
    "\n",
    "Phi_func = jax.jit(jax.jacfwd(lambda params, u: model().apply(params, u, method=VAE.decode), argnums=1))\n",
    "\n",
    "def AnimationFunction(frame):\n",
    "    if frame % 100 == 0:\n",
    "        print('frame {:}'.format(frame))\n",
    "    u_ref_encoded = model().apply(params, u_ref[frame], method=VAE.encode)\n",
    "    Phi = Phi_func(params, u_ref_encoded)\n",
    "    lines1[0].set_data((V.tabulate_dof_coordinates()[:,0], u_ref[frame]))\n",
    "    lines2[0].set_data((V.tabulate_dof_coordinates()[:,0], Phi.T[0]))\n",
    "    lines2[1].set_data((V.tabulate_dof_coordinates()[:,0], Phi.T[1]))\n",
    "    lines2[2].set_data((V.tabulate_dof_coordinates()[:,0], Phi.T[2]))\n",
    "\n",
    "anim = FuncAnimation(fig, AnimationFunction, frames=u_ref.shape[0], interval=15)\n",
    "video = anim.to_html5_video()\n",
    "with open(fig_dir + \"nu_\" + str(nu) + \"_basis_n_\" + str(n) + \".html\", \"w\") as f:\n",
    "    f.write(video)\n",
    "\n",
    "plt.close()"
   ]
  },
  {
   "cell_type": "code",
   "execution_count": 7,
   "metadata": {},
   "outputs": [
    {
     "data": {
      "text/plain": [
       "[<matplotlib.lines.Line2D at 0x7f0edc21bb20>]"
      ]
     },
     "execution_count": 7,
     "metadata": {},
     "output_type": "execute_result"
    },
    {
     "data": {
      "image/png": "[encoded data removed]",
      "text/plain": [
       "<Figure size 1600x480 with 1 Axes>"
      ]
     },
     "metadata": {
      "needs_background": "light"
     },
     "output_type": "display_data"
    }
   ],
   "source": [
    "plt.figure(figsize=(20, 6), dpi=80)\n",
    "u_peek = u_ref[400]\n",
    "plt.plot(u_peek)\n",
    "plt.plot(model().apply(params, u_peek))"
   ]
  },
  {
   "cell_type": "code",
   "execution_count": 8,
   "metadata": {},
   "outputs": [],
   "source": [
    "t_start = 0.0\n",
    "t_final = 0.5\n",
    "dt = 0.001"
   ]
  },
  {
   "cell_type": "code",
   "execution_count": 9,
   "metadata": {},
   "outputs": [],
   "source": [
    "nelem = mesh.num_cells()\n",
    "\n",
    "# Per element\n",
    "nqp = 2\n",
    "ndof = 2\n",
    "nvertex = 2\n",
    "nnode = 2\n",
    "ndim = 2\n",
    "\n",
    "# Data structure to be computed per element\n",
    "dof_map = np.zeros((nelem,ndof), dtype=int)\n",
    "JxW = np.zeros((nelem,nqp))\n",
    "grad_test = np.zeros((nelem,nqp,nnode,ndim))\n",
    "\n",
    "lagrange = basix.create_element(ElementFamily.P, CellType.interval, 1, LagrangeVariant.equispaced)\n",
    "ref_points, weights = basix.make_quadrature(CellType.interval, 2)\n",
    "test, ref_grad_test = lagrange.tabulate(1, ref_points)\n",
    "test = test.reshape(2,2)\n",
    "ref_grad_test = ref_grad_test.reshape(2,2)\n",
    "\n",
    "for e in range(nelem):\n",
    "    cell = Cell(mesh, e)\n",
    "    dof_map[e] = V.dofmap().cell_dofs(e)\n",
    "    coordinates = np.array(cell.get_coordinate_dofs()).reshape(2,2)\n",
    "    for qp,weight in enumerate(weights):\n",
    "        J = jnp.matmul(ref_grad_test[qp], coordinates)\n",
    "        detJ = jnp.sqrt(jnp.dot(J, J))\n",
    "        JxW[e][qp] = detJ*weight\n",
    "        grad_test[e][qp] = jnp.vstack((ref_grad_test[qp]/detJ, jnp.zeros((1,2)))).T\n",
    "\n",
    "dof_map = jnp.array(dof_map)\n",
    "JxW = jnp.array(JxW)\n",
    "grad_test = jnp.array(grad_test)"
   ]
  },
  {
   "cell_type": "code",
   "execution_count": 10,
   "metadata": {},
   "outputs": [],
   "source": [
    "def local_residual(dofs,JxW,test,grad_test,ut,ut_old,dt):\n",
    "    local_re = jnp.zeros((N,))\n",
    "    for i in range(nnode):\n",
    "        r = 0\n",
    "        for qp in range(nqp):\n",
    "            u = jnp.dot(test[qp], ut[dofs])\n",
    "            u_old = jnp.dot(test[qp], ut_old[dofs])\n",
    "            grad_u = jnp.matmul(ut[dofs], grad_test[qp])\n",
    "            r = r + (test[qp][i]*(u-u_old)/dt+nu*jnp.dot(grad_test[qp][i],grad_u)+test[qp][i]*grad_u[0]*u) * JxW[qp]\n",
    "        local_re = local_re.at[dofs[i]].set(r)\n",
    "    return local_re"
   ]
  },
  {
   "cell_type": "code",
   "execution_count": 11,
   "metadata": {},
   "outputs": [],
   "source": [
    "def objective(ur, ur_old, dt, params):\n",
    "    ut = model().apply(params, ur, method=VAE.decode)\n",
    "    ut_old = model().apply(params, ur_old, method=VAE.decode)\n",
    "    local_res = jax.vmap(local_residual, in_axes=(0,0,None,0,None,None,None), out_axes=0)(dof_map,JxW,test,grad_test,ut,ut_old,dt)\n",
    "    r = jnp.sum(local_res,axis=0)\n",
    "    return 0.5*jnp.dot(r,r)\n",
    "\n",
    "residual = jax.jit(jax.value_and_grad(objective))\n",
    "\n",
    "jacobian = jax.jit(jax.jacfwd(jax.grad(objective)))"
   ]
  },
  {
   "cell_type": "code",
   "execution_count": 12,
   "metadata": {},
   "outputs": [],
   "source": [
    "class Divergence(Exception):\n",
    "    pass\n",
    "\n",
    "def solve(u, u_old, dt, nl_max_its, RTOL, ATOL):\n",
    "    def converged(r, r0):\n",
    "        if jnp.linalg.norm(r) < ATOL:\n",
    "            return True\n",
    "        if jnp.linalg.norm(r) < RTOL * jnp.linalg.norm(r0):\n",
    "            return True\n",
    "        return False\n",
    "\n",
    "    obj, r = residual(u, u_old, dt, params)\n",
    "    r0 = r\n",
    "    for itr in range(nl_max_its):\n",
    "        print('Itr = {:}, |R| = {:.3E}, objective = {:.3E}'.format(itr, jnp.linalg.norm(r), obj))\n",
    "\n",
    "        if converged(r, r0):\n",
    "            return u400\n",
    "        \n",
    "        J = jacobian(u, u_old, dt, params)\n",
    "\n",
    "        du = - jnp.linalg.solve(J, r)\n",
    "        u = u + du\n",
    "        obj, r = residual(u, u_old, dt, params)\n",
    "\n",
    "    raise Divergence\n",
    "\n",
    "def solve_step(i, t, u, dt, nl_max_its=10, RTOL=1e-6, ATOL=1e-8):\n",
    "    try:\n",
    "        i = i + 1\n",
    "        t = t + dt\n",
    "        u_old = u\n",
    "        print('\\nstep = {}, t = {}'.format(i, t))\n",
    "        u = solve(u, u_old, dt, nl_max_its=nl_max_its, RTOL=RTOL, ATOL=ATOL)\n",
    "    except Divergence:\n",
    "        display.clear_output(wait=True)\n",
    "        print('solve failed, cut dt')\n",
    "        i = i - 1\n",
    "        t = t - dt\n",
    "        u = u_old\n",
    "        i, t, u = solve_step(i, t, u, dt/2, nl_max_its=nl_max_its, RTOL=RTOL, ATOL=ATOL)\n",
    "        i, t, u = solve_step(i, t, u, dt/2, nl_max_its=nl_max_its, RTOL=RTOL, ATOL=ATOL)\n",
    "    return i, t, u"
   ]
  },
  {
   "cell_type": "code",
   "execution_count": 13,
   "metadata": {},
   "outputs": [
    {
     "name": "stdout",
     "output_type": "stream",
     "text": [
      "\n",
      "step = 499, t = 0.4990000000000004\n",
      "Itr = 0, |R| = 6.909E-01, objective = 1.237E-01\n",
      "Itr = 1, |R| = 2.606E-02, objective = 8.953E-02\n",
      "Itr = 2, |R| = 4.513E-05, objective = 8.948E-02\n",
      "Itr = 3, |R| = 2.303E-10, objective = 8.948E-02\n",
      "\n",
      "step = 500, t = 0.5000000000000003\n",
      "Itr = 0, |R| = 6.637E-01, objective = 1.340E-01\n",
      "Itr = 1, |R| = 1.724E-02, objective = 1.029E-01\n",
      "Itr = 2, |R| = 1.734E-05, objective = 1.029E-01\n",
      "Itr = 3, |R| = 3.012E-11, objective = 1.029E-01\n"
     ]
    }
   ],
   "source": [
    "u0 = Function(V)\n",
    "u0_expr = Expression(\n",
    "    \"x[0] < 1 ? 1+A*(sin(2*pi*x[0]-pi/2)+1) : 1\", degree=1, A=A)\n",
    "u0.interpolate(u0_expr)\n",
    "\n",
    "ur0 = model().apply(params, u0.vector().get_local(), method=VAE.encode)\n",
    "ur = ur0\n",
    "\n",
    "def residual_helper(ur, ur_old, params):\n",
    "    return np.array(residual(ur, ur_old, params))\n",
    "\n",
    "def jacobian_helper(ur, ur_old, params):\n",
    "    return np.array(jacobian(ur, ur_old, params))\n",
    "\n",
    "\n",
    "i = 0\n",
    "t = t_start\n",
    "ts = []\n",
    "u_approx = []\n",
    "while t < t_final:\n",
    "    i, t, ur = solve_step(i, t, ur, dt, nl_max_its=20, ATOL=1e-9)\n",
    "    if i % 2 == 0:\n",
    "        display.clear_output(wait=True)\n",
    "    u_approx.append(model().apply(params, ur, method=VAE.decode))\n",
    "u_approx = np.array(u_approx)"
   ]
  },
  {
   "cell_type": "code",
   "execution_count": 15,
   "metadata": {},
   "outputs": [],
   "source": [
    "fig, ax = plt.subplots()\n",
    "im = ax.imshow(u_ref.T, vmin=1, vmax=2, cmap='jet')\n",
    "cb_ref = fig.colorbar(im)\n",
    "ax.set_xlabel(\"$t$\")\n",
    "ax.set_ylabel(\"$x$\")\n",
    "ax.set_xticks(np.linspace(0, time_steps, 3))\n",
    "ax.set_xticklabels(np.linspace(t_start, t_final, 3))\n",
    "ytick_loc = np.linspace(0, V.dim() - 1, 3).astype(int)\n",
    "ax.set_yticks(ytick_loc)\n",
    "ax.set_yticklabels(V.tabulate_dof_coordinates()[ytick_loc, 0])\n",
    "ax.set_aspect(\"auto\")\n",
    "plt.tight_layout(pad=0)\n",
    "plt.savefig(fig_dir + \"nu_\" + str(nu) + \"_sol_ref.png\")\n",
    "plt.close()"
   ]
  },
  {
   "cell_type": "code",
   "execution_count": 16,
   "metadata": {},
   "outputs": [],
   "source": [
    "fig, ax = plt.subplots()\n",
    "im = ax.imshow(u_approx.T, vmin=1, vmax=2, cmap='jet')\n",
    "cb = fig.colorbar(im)\n",
    "cb.set_ticks(cb_ref.get_ticks())\n",
    "ax.set_xlabel(\"$t$\")\n",
    "ax.set_ylabel(\"$x$\")\n",
    "ax.set_xticks(np.linspace(0, u_approx.shape[0], 3))\n",
    "ax.set_xticklabels(np.linspace(t_start, t_final, 3))\n",
    "ytick_loc = np.linspace(0, V.dim() - 1, 3).astype(int)\n",
    "ax.set_yticks(ytick_loc)\n",
    "ax.set_yticklabels(V.tabulate_dof_coordinates()[ytick_loc, 0])\n",
    "ax.set_aspect(\"auto\")\n",
    "plt.tight_layout(pad=0)\n",
    "plt.savefig(fig_dir + \"nu_\" + str(nu) + \"_sol_n_\" + str(n) + \".png\")\n",
    "plt.close()"
   ]
  },
  {
   "cell_type": "code",
   "execution_count": 17,
   "metadata": {},
   "outputs": [],
   "source": [
    "fig, ax = plt.subplots()\n",
    "im = ax.imshow(np.abs(u_approx - u_ref[1:]).T, norm=matplotlib.colors.LogNorm())\n",
    "fig.colorbar(im)\n",
    "ax.set_xlabel(\"$t$\")\n",
    "ax.set_ylabel(\"$x$\")\n",
    "ax.set_xticks(np.linspace(0, u_approx.shape[0], 3))\n",
    "ax.set_xticklabels(np.linspace(t_start, t_final, 3))\n",
    "ytick_loc = np.linspace(0, V.dim() - 1, 3).astype(int)\n",
    "ax.set_yticks(ytick_loc)\n",
    "ax.set_yticklabels(V.tabulate_dof_coordinates()[ytick_loc, 0])\n",
    "ax.set_aspect(\"auto\")\n",
    "plt.tight_layout(pad=0)\n",
    "plt.savefig(fig_dir + \"nu_\" + str(nu) + \"_err_n_\" + str(n) + \".png\")\n",
    "plt.close()"
   ]
  }
 ],
 "metadata": {
  "interpreter": {
   "hash": "5ddbe19de354cb3458259858342c873fe20ea4c81d1e260674f59fcfd1c9a64d"
  },
  "kernelspec": {
   "display_name": "Python 3.10.2 ('flashlight')",
   "language": "python",
   "name": "python3"
  },
  "language_info": {
   "codemirror_mode": {
    "name": "ipython",
    "version": 3
   },
   "file_extension": ".py",
   "mimetype": "text/x-python",
   "name": "python",
   "nbconvert_exporter": "python",
   "pygments_lexer": "ipython3",
   "version": "3.10.2"
  },
  "orig_nbformat": 4
 },
 "nbformat": 4,
 "nbformat_minor": 2
}
