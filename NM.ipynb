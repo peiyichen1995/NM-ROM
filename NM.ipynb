{
 "cells": [
  {
   "cell_type": "code",
   "execution_count": 9,
   "metadata": {},
   "outputs": [],
   "source": [
    "import matplotlib\n",
    "import matplotlib.pyplot as plt\n",
    "from utils import *\n",
    "from scipy.integrate import solve_ivp\n",
    "from numpy.linalg import inv\n"
   ]
  },
  {
   "cell_type": "code",
   "execution_count": 10,
   "metadata": {},
   "outputs": [],
   "source": [
    "############################\n",
    "# Model parameters\n",
    "############################\n",
    "method = \"NM_ROM\"\n",
    "nu = 0.001\n",
    "A = 0.5\n",
    "filename = \"output/burgers_1D/nu_\" + str(nu) + \"/\"\n"
   ]
  },
  {
   "cell_type": "code",
   "execution_count": 11,
   "metadata": {},
   "outputs": [
    {
     "name": "stdout",
     "output_type": "stream",
     "text": [
      "Reading mesh and solution of the full order model\n"
     ]
    }
   ],
   "source": [
    "############################\n",
    "# Read snapshots\n",
    "############################\n",
    "print(\"Reading mesh and solution of the full order model\")\n",
    "mesh, u_ref = read_mesh_and_function(filename + \"FOM\", \"u\")\n"
   ]
  },
  {
   "cell_type": "code",
   "execution_count": 16,
   "metadata": {},
   "outputs": [
    {
     "name": "stdout",
     "output_type": "stream",
     "text": [
      "13/13 [==============================] - 0s 12ms/step - loss: 2.0998 - val_loss: 0.7476\n"
     ]
    },
    {
     "data": {
      "text/plain": [
       "<keras.callbacks.History at 0x7f0efa50bc70>"
      ]
     },
     "execution_count": 16,
     "metadata": {},
     "output_type": "execute_result"
    }
   ],
   "source": [
    "############################\n",
    "# Perform AutoEncoding\n",
    "# R: number of dofs in the full order model\n",
    "# r: number of dofs in the reduced order model\n",
    "############################\n",
    "\n",
    "# This is the number of dofs in the reduced order model\n",
    "r = 82\n",
    "\n",
    "R, time_steps = u_ref.shape\n",
    "\n",
    "# split test and train data\n",
    "X_train, X_test, y_train, y_test = train_test_split(\n",
    "    u_ref.T, u_ref.T, test_size=0.2, random_state=42)\n",
    "\n",
    "# This is our input image\n",
    "input_img = keras.Input(shape=(R, ))\n",
    "\n",
    "# \"encoded\" is the encoded representation of the input\n",
    "# encoded = layers.Dense(r, activation='sigmoid')(input_img)\n",
    "encoded = layers.Dense(1500, activation='linear')(input_img)\n",
    "encoded = layers.Dense(r, activation='linear')(encoded)\n",
    "\n",
    "\n",
    "# \"decoded\" is the lossy reconstruction of the input\n",
    "decoded = layers.Dense(R, activation='linear')(encoded)\n",
    "\n",
    "# This model maps an input to its reconstruction\n",
    "autoencoder = keras.Model(input_img, decoded)\n",
    "\n",
    "# This model maps an input to its encoded representation\n",
    "encoder = keras.Model(input_img, encoded)\n",
    "\n",
    "# This is our encoded (32-dimensional) input\n",
    "encoded_input = keras.Input(shape=(r,))\n",
    "# Retrieve the last layer of the autoencoder model\n",
    "decoder_layer = autoencoder.layers[-1]\n",
    "# Create the decoder model\n",
    "decoder = keras.Model(encoded_input, decoder_layer(encoded_input))\n",
    "\n",
    "num_epochs = 1\n",
    "\n",
    "autoencoder.compile(optimizer='adam', loss='mean_squared_error')\n",
    "\n",
    "autoencoder.fit(X_train, X_train,\n",
    "                epochs=num_epochs,\n",
    "                validation_data=(X_test, X_test))"
   ]
  },
  {
   "cell_type": "code",
   "execution_count": 17,
   "metadata": {},
   "outputs": [
    {
     "name": "stdout",
     "output_type": "stream",
     "text": [
      "(None, 1001)\n"
     ]
    }
   ],
   "source": [
    "############################\n",
    "# Function space\n",
    "############################\n",
    "V = FunctionSpace(mesh, \"CG\", 1)\n",
    "\n",
    "############################\n",
    "# Functions\n",
    "############################\n",
    "u = Function(V)\n",
    "u_old = Function(V)\n",
    "u0 = Function(V)\n",
    "v = TestFunction(V)\n",
    "\n",
    "############################\n",
    "# Initial condition\n",
    "############################\n",
    "u0_expr = Expression(\n",
    "    \"x[0] < 1 ? 1+A*(sin(2*pi*x[0]-pi/2)+1) : 1\", degree=1, A=A)\n",
    "u0.interpolate(u0_expr)\n"
   ]
  },
  {
   "cell_type": "code",
   "execution_count": 18,
   "metadata": {},
   "outputs": [],
   "source": [
    "u0_red = encoder.predict(u0.vector().get_local().reshape(1, -1))\n",
    "u0_red = u0_red.reshape(r,)"
   ]
  },
  {
   "cell_type": "code",
   "execution_count": null,
   "metadata": {},
   "outputs": [],
   "source": [
    "import tensorflow as tf\n",
    "\n",
    "with tf.GradientTape() as g:\n",
    "  g.watch(x)\n",
    "  y = x * x\n",
    "dy_dx = g.gradient(y, x)"
   ]
  }
 ],
 "metadata": {
  "interpreter": {
   "hash": "c8475a232b822aed66d3bbbb71d7fb1340252d4f7b77b0b9050f60cc7b3f466a"
  },
  "kernelspec": {
   "display_name": "Python 3.10.2 ('fenics')",
   "language": "python",
   "name": "python3"
  },
  "language_info": {
   "codemirror_mode": {
    "name": "ipython",
    "version": 3
   },
   "file_extension": ".py",
   "mimetype": "text/x-python",
   "name": "python",
   "nbconvert_exporter": "python",
   "pygments_lexer": "ipython3",
   "version": "3.10.2"
  },
  "orig_nbformat": 4
 },
 "nbformat": 4,
 "nbformat_minor": 2
}
