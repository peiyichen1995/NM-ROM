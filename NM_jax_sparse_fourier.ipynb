{
 "cells": [
  {
   "cell_type": "code",
   "execution_count": 9,
   "metadata": {},
   "outputs": [],
   "source": [
    "import jax.numpy as jnp\n",
    "import numpy as np\n",
    "\n",
    "import jax\n",
    "from jax import nn as jnn\n",
    "from jax import random\n",
    "\n",
    "from flax import linen as nn\n",
    "from flax import optim\n",
    "\n",
    "import optax\n",
    "\n",
    "import h5py\n",
    "from fenics import *\n",
    "\n",
    "from typing import Sequence\n",
    "\n",
    "import matplotlib.pyplot as plt\n",
    "\n",
    "import basix\n",
    "from basix import ElementFamily, CellType, LagrangeVariant\n",
    "\n",
    "from scipy.optimize import least_squares, fsolve\n",
    "\n",
    "# again, this only works on startup!\n",
    "from jax.config import config\n",
    "config.update(\"jax_enable_x64\", True)"
   ]
  },
  {
   "cell_type": "code",
   "execution_count": 10,
   "metadata": {},
   "outputs": [],
   "source": [
    "def read_mesh_and_function(file_name, var_name):\n",
    "\n",
    "    # Open solution file\n",
    "    infile = XDMFFile(file_name + \".xdmf\")\n",
    "    infile_h5 = h5py.File(file_name + \".h5\", \"r\")\n",
    "    t_steps = len(infile_h5[var_name].keys())\n",
    "\n",
    "    # Read in mesh\n",
    "    mesh = Mesh()\n",
    "    infile.read(mesh)\n",
    "\n",
    "    # Read function\n",
    "    V = FunctionSpace(mesh, \"CG\", 1)\n",
    "    u = Function(V)\n",
    "    solution = np.zeros((V.dim(), t_steps))\n",
    "    for i in range(t_steps):\n",
    "        infile.read_checkpoint(u, var_name, i - t_steps + 1)\n",
    "        solution[:, i] = u.vector().get_local()\n",
    "\n",
    "    # Clean up\n",
    "    infile.close()\n",
    "    infile_h5.close()\n",
    "\n",
    "    return mesh, solution\n",
    "    \n",
    "nu = 0.1\n",
    "A = 0.5\n",
    "mesh, u_ref = read_mesh_and_function(\"output/burgers_1D/nu_\"+str(nu)+\"/FOM\", \"u\")\n",
    "u_ref = u_ref.T"
   ]
  },
  {
   "cell_type": "code",
   "execution_count": 11,
   "metadata": {},
   "outputs": [],
   "source": [
    "time_steps, N = u_ref.shape\n",
    "u_train = u_ref[np.arange(0,time_steps,10)]\n",
    "n = 15\n",
    "M1 = 100\n",
    "n_epoch = 20000"
   ]
  },
  {
   "cell_type": "code",
   "execution_count": 12,
   "metadata": {},
   "outputs": [],
   "source": [
    "class Encoder(nn.Module):\n",
    "    latents: Sequence[int]\n",
    "    \n",
    "    @nn.compact\n",
    "    def __call__(self, x):\n",
    "        x = nn.Dense(self.latents[0],dtype=jnp.float64,param_dtype=jnp.float64)(x)\n",
    "        x = nn.swish(x)\n",
    "        xr = nn.Dense(self.latents[1],dtype=jnp.float64,param_dtype=jnp.float64)(x)\n",
    "        return xr"
   ]
  },
  {
   "cell_type": "code",
   "execution_count": 13,
   "metadata": {},
   "outputs": [],
   "source": [
    "def gaussian_kernel(window_size, sigma):\n",
    "    mu = window_size / 2\n",
    "    x = jnp.arange(window_size)\n",
    "    window = jnp.exp((-((x-mu)**2))/(2*sigma**2))/sigma/jnp.sqrt(2*jnp.pi)\n",
    "    return window\n",
    "\n",
    "class Decoder(nn.Module):\n",
    "    def setup(self):\n",
    "        self.amplitude = nn.Dense(n,dtype=jnp.float64,param_dtype=jnp.float64)\n",
    "        self.omega = nn.Dense(n,dtype=jnp.float64,param_dtype=jnp.float64)\n",
    "        self.phi = nn.Dense(n,dtype=jnp.float64,param_dtype=jnp.float64)\n",
    "\n",
    "    def basis(self, x, i):\n",
    "        coords = jnp.linspace(0, 1, N)\n",
    "\n",
    "        amplitudes = self.amplitude(x)\n",
    "        omegas = self.omega(x)\n",
    "        phis = self.phi(x)\n",
    "        \n",
    "        # amplitudes = nn.sigmoid(amplitudes)\n",
    "        # omegas = nn.sigmoid(omegas)\n",
    "        # phis = nn.sigmoid(phis)\n",
    "        \n",
    "        return amplitudes[i]*jnp.cos(omegas[i]*coords-phis[i])\n",
    "    \n",
    "    @nn.compact\n",
    "    def __call__(self, x):\n",
    "        coords = jnp.linspace(0, 1, N)\n",
    "        \n",
    "        amplitudes = self.amplitude(x)\n",
    "        omegas = self.omega(x)\n",
    "        phis = self.phi(x)\n",
    "        \n",
    "        # amplitudes = nn.sigmoid(amplitudes)\n",
    "        # omegas = nn.sigmoid(omegas)\n",
    "        # phis = nn.sigmoid(phis)\n",
    "\n",
    "        xs = jax.vmap(lambda amplitude, omega, phi: amplitude*jnp.cos(omega*coords-phi), in_axes=(0,0,0), out_axes=0)(amplitudes,omegas,phis)\n",
    "        return jnp.sum(xs, axis=0)\n"
   ]
  },
  {
   "cell_type": "code",
   "execution_count": 14,
   "metadata": {},
   "outputs": [],
   "source": [
    "class VAE(nn.Module):\n",
    "    encoder_latents: Sequence[int]\n",
    "\n",
    "    def setup(self):\n",
    "        self.encoder = Encoder(self.encoder_latents)\n",
    "        self.decoder = Decoder()\n",
    "    \n",
    "    def encode(self, x):\n",
    "        return self.encoder(x)\n",
    "\n",
    "    def decode(self, x):\n",
    "        return self.decoder(x)\n",
    "\n",
    "    def basis(self, x, i):\n",
    "        return self.decoder.basis(self.encode(x), i)\n",
    "\n",
    "    def __call__(self, x):\n",
    "        return self.decode(self.encode(x))\n",
    "\n",
    "def model():\n",
    "    return VAE(encoder_latents=[M1,n])"
   ]
  },
  {
   "cell_type": "code",
   "execution_count": 15,
   "metadata": {},
   "outputs": [],
   "source": [
    "@jax.jit\n",
    "def loss_fn(params, x):\n",
    "    xt = jax.vmap(model().apply, in_axes=(None, 0))(params, x)\n",
    "    errors = jax.vmap(rel_err, in_axes=(0,0), out_axes=0)(x,xt)\n",
    "    l = jnp.sum(errors**2)/time_steps\n",
    "    return l\n",
    "\n",
    "def rel_err(x, xt):\n",
    "    return jnp.linalg.norm(x-xt)\n",
    "\n",
    "params = model().init(random.PRNGKey(0), u_train[0])\n",
    "tx = optax.adam(0.001)\n",
    "opt_state = tx.init(params)\n",
    "loss_grad_fn = jax.value_and_grad(loss_fn)\n",
    "min_loss = 100\n",
    "best_params = params"
   ]
  },
  {
   "cell_type": "code",
   "execution_count": 16,
   "metadata": {},
   "outputs": [
    {
     "data": {
      "image/png": "[encoded data removed]",
      "text/plain": [
       "<Figure size 432x288 with 1 Axes>"
      ]
     },
     "metadata": {},
     "output_type": "display_data"
    },
    {
     "name": "stdout",
     "output_type": "stream",
     "text": [
      "Loss step 2810:  5.240422763524448\n",
      "Loss step 2820:  4.933887122955744\n",
      "Loss step 2830:  4.68106131960983\n",
      "Loss step 2840:  4.470490583672058\n",
      "Loss step 2850:  4.2934381455586665\n",
      "Loss step 2860:  4.143039340888295\n",
      "Loss step 2870:  4.013857415011766\n",
      "Loss step 2880:  3.9016205105139545\n",
      "Loss step 2890:  3.8029535477443095\n"
     ]
    },
    {
     "ename": "KeyboardInterrupt",
     "evalue": "",
     "output_type": "error",
     "traceback": [
      "\u001b[0;31m---------------------------------------------------------------------------\u001b[0m",
      "\u001b[0;31mKeyboardInterrupt\u001b[0m                         Traceback (most recent call last)",
      "\u001b[1;32m/home/gary/projects/pod_burger/NM_jax_sparse_fourier.ipynb Cell 8'\u001b[0m in \u001b[0;36m<cell line: 4>\u001b[0;34m()\u001b[0m\n\u001b[1;32m      <a href='vscode-notebook-cell:/home/gary/projects/pod_burger/NM_jax_sparse_fourier.ipynb#ch0000007?line=1'>2</a>\u001b[0m loss_history \u001b[39m=\u001b[39m np\u001b[39m.\u001b[39mzeros((n_epoch)) \u001b[39m*\u001b[39m np\u001b[39m.\u001b[39mnan\n\u001b[1;32m      <a href='vscode-notebook-cell:/home/gary/projects/pod_burger/NM_jax_sparse_fourier.ipynb#ch0000007?line=3'>4</a>\u001b[0m \u001b[39mfor\u001b[39;00m i \u001b[39min\u001b[39;00m \u001b[39mrange\u001b[39m(n_epoch):\n\u001b[0;32m----> <a href='vscode-notebook-cell:/home/gary/projects/pod_burger/NM_jax_sparse_fourier.ipynb#ch0000007?line=4'>5</a>\u001b[0m     loss_val, grads \u001b[39m=\u001b[39m loss_grad_fn(params, u_train)\n\u001b[1;32m      <a href='vscode-notebook-cell:/home/gary/projects/pod_burger/NM_jax_sparse_fourier.ipynb#ch0000007?line=5'>6</a>\u001b[0m     loss_history[i] \u001b[39m=\u001b[39m loss_val\n\u001b[1;32m      <a href='vscode-notebook-cell:/home/gary/projects/pod_burger/NM_jax_sparse_fourier.ipynb#ch0000007?line=6'>7</a>\u001b[0m     \u001b[39mif\u001b[39;00m loss_val \u001b[39m<\u001b[39m min_loss:\n",
      "    \u001b[0;31m[... skipping hidden 1 frame]\u001b[0m\n",
      "File \u001b[0;32m~/mambaforge3/envs/flashlight/lib/python3.10/site-packages/jax/_src/api.py:1067\u001b[0m, in \u001b[0;36mvalue_and_grad.<locals>.value_and_grad_f\u001b[0;34m(*args, **kwargs)\u001b[0m\n\u001b[1;32m   <a href='file:///home/gary/mambaforge3/envs/flashlight/lib/python3.10/site-packages/jax/_src/api.py?line=1064'>1065</a>\u001b[0m   _check_input_dtype_grad(holomorphic, allow_int, leaf)\n\u001b[1;32m   <a href='file:///home/gary/mambaforge3/envs/flashlight/lib/python3.10/site-packages/jax/_src/api.py?line=1065'>1066</a>\u001b[0m \u001b[39mif\u001b[39;00m \u001b[39mnot\u001b[39;00m has_aux:\n\u001b[0;32m-> <a href='file:///home/gary/mambaforge3/envs/flashlight/lib/python3.10/site-packages/jax/_src/api.py?line=1066'>1067</a>\u001b[0m   ans, vjp_py \u001b[39m=\u001b[39m _vjp(f_partial, \u001b[39m*\u001b[39;49mdyn_args, reduce_axes\u001b[39m=\u001b[39;49mreduce_axes)\n\u001b[1;32m   <a href='file:///home/gary/mambaforge3/envs/flashlight/lib/python3.10/site-packages/jax/_src/api.py?line=1067'>1068</a>\u001b[0m \u001b[39melse\u001b[39;00m:\n\u001b[1;32m   <a href='file:///home/gary/mambaforge3/envs/flashlight/lib/python3.10/site-packages/jax/_src/api.py?line=1068'>1069</a>\u001b[0m   ans, vjp_py, aux \u001b[39m=\u001b[39m _vjp(\n\u001b[1;32m   <a href='file:///home/gary/mambaforge3/envs/flashlight/lib/python3.10/site-packages/jax/_src/api.py?line=1069'>1070</a>\u001b[0m       f_partial, \u001b[39m*\u001b[39mdyn_args, has_aux\u001b[39m=\u001b[39m\u001b[39mTrue\u001b[39;00m, reduce_axes\u001b[39m=\u001b[39mreduce_axes)\n",
      "File \u001b[0;32m~/mambaforge3/envs/flashlight/lib/python3.10/site-packages/jax/_src/api.py:2521\u001b[0m, in \u001b[0;36m_vjp\u001b[0;34m(fun, has_aux, reduce_axes, *primals)\u001b[0m\n\u001b[1;32m   <a href='file:///home/gary/mambaforge3/envs/flashlight/lib/python3.10/site-packages/jax/_src/api.py?line=2518'>2519</a>\u001b[0m \u001b[39mif\u001b[39;00m \u001b[39mnot\u001b[39;00m has_aux:\n\u001b[1;32m   <a href='file:///home/gary/mambaforge3/envs/flashlight/lib/python3.10/site-packages/jax/_src/api.py?line=2519'>2520</a>\u001b[0m   flat_fun, out_tree \u001b[39m=\u001b[39m flatten_fun_nokwargs(fun, in_tree)\n\u001b[0;32m-> <a href='file:///home/gary/mambaforge3/envs/flashlight/lib/python3.10/site-packages/jax/_src/api.py?line=2520'>2521</a>\u001b[0m   out_primal, out_vjp \u001b[39m=\u001b[39m ad\u001b[39m.\u001b[39;49mvjp(\n\u001b[1;32m   <a href='file:///home/gary/mambaforge3/envs/flashlight/lib/python3.10/site-packages/jax/_src/api.py?line=2521'>2522</a>\u001b[0m       flat_fun, primals_flat, reduce_axes\u001b[39m=\u001b[39;49mreduce_axes)\n\u001b[1;32m   <a href='file:///home/gary/mambaforge3/envs/flashlight/lib/python3.10/site-packages/jax/_src/api.py?line=2522'>2523</a>\u001b[0m   out_tree \u001b[39m=\u001b[39m out_tree()\n\u001b[1;32m   <a href='file:///home/gary/mambaforge3/envs/flashlight/lib/python3.10/site-packages/jax/_src/api.py?line=2523'>2524</a>\u001b[0m \u001b[39melse\u001b[39;00m:\n",
      "File \u001b[0;32m~/mambaforge3/envs/flashlight/lib/python3.10/site-packages/jax/interpreters/ad.py:116\u001b[0m, in \u001b[0;36mvjp\u001b[0;34m(traceable, primals, has_aux, reduce_axes)\u001b[0m\n\u001b[1;32m    <a href='file:///home/gary/mambaforge3/envs/flashlight/lib/python3.10/site-packages/jax/interpreters/ad.py?line=113'>114</a>\u001b[0m \u001b[39mdef\u001b[39;00m \u001b[39mvjp\u001b[39m(traceable, primals, has_aux\u001b[39m=\u001b[39m\u001b[39mFalse\u001b[39;00m, reduce_axes\u001b[39m=\u001b[39m()):\n\u001b[1;32m    <a href='file:///home/gary/mambaforge3/envs/flashlight/lib/python3.10/site-packages/jax/interpreters/ad.py?line=114'>115</a>\u001b[0m   \u001b[39mif\u001b[39;00m \u001b[39mnot\u001b[39;00m has_aux:\n\u001b[0;32m--> <a href='file:///home/gary/mambaforge3/envs/flashlight/lib/python3.10/site-packages/jax/interpreters/ad.py?line=115'>116</a>\u001b[0m     out_primals, pvals, jaxpr, consts \u001b[39m=\u001b[39m linearize(traceable, \u001b[39m*\u001b[39;49mprimals)\n\u001b[1;32m    <a href='file:///home/gary/mambaforge3/envs/flashlight/lib/python3.10/site-packages/jax/interpreters/ad.py?line=116'>117</a>\u001b[0m   \u001b[39melse\u001b[39;00m:\n\u001b[1;32m    <a href='file:///home/gary/mambaforge3/envs/flashlight/lib/python3.10/site-packages/jax/interpreters/ad.py?line=117'>118</a>\u001b[0m     out_primals, pvals, jaxpr, consts, aux \u001b[39m=\u001b[39m linearize(traceable, \u001b[39m*\u001b[39mprimals, has_aux\u001b[39m=\u001b[39m\u001b[39mTrue\u001b[39;00m)\n",
      "File \u001b[0;32m~/mambaforge3/envs/flashlight/lib/python3.10/site-packages/jax/interpreters/ad.py:103\u001b[0m, in \u001b[0;36mlinearize\u001b[0;34m(traceable, *primals, **kwargs)\u001b[0m\n\u001b[1;32m    <a href='file:///home/gary/mambaforge3/envs/flashlight/lib/python3.10/site-packages/jax/interpreters/ad.py?line=100'>101</a>\u001b[0m _, in_tree \u001b[39m=\u001b[39m tree_flatten(((primals, primals), {}))\n\u001b[1;32m    <a href='file:///home/gary/mambaforge3/envs/flashlight/lib/python3.10/site-packages/jax/interpreters/ad.py?line=101'>102</a>\u001b[0m jvpfun_flat, out_tree \u001b[39m=\u001b[39m flatten_fun(jvpfun, in_tree)\n\u001b[0;32m--> <a href='file:///home/gary/mambaforge3/envs/flashlight/lib/python3.10/site-packages/jax/interpreters/ad.py?line=102'>103</a>\u001b[0m jaxpr, out_pvals, consts \u001b[39m=\u001b[39m pe\u001b[39m.\u001b[39;49mtrace_to_jaxpr(jvpfun_flat, in_pvals)\n\u001b[1;32m    <a href='file:///home/gary/mambaforge3/envs/flashlight/lib/python3.10/site-packages/jax/interpreters/ad.py?line=103'>104</a>\u001b[0m out_primals_pvals, out_tangents_pvals \u001b[39m=\u001b[39m tree_unflatten(out_tree(), out_pvals)\n\u001b[1;32m    <a href='file:///home/gary/mambaforge3/envs/flashlight/lib/python3.10/site-packages/jax/interpreters/ad.py?line=104'>105</a>\u001b[0m \u001b[39massert\u001b[39;00m \u001b[39mall\u001b[39m(out_primal_pval\u001b[39m.\u001b[39mis_known() \u001b[39mfor\u001b[39;00m out_primal_pval \u001b[39min\u001b[39;00m out_primals_pvals)\n",
      "File \u001b[0;32m~/mambaforge3/envs/flashlight/lib/python3.10/site-packages/jax/_src/profiler.py:206\u001b[0m, in \u001b[0;36mannotate_function.<locals>.wrapper\u001b[0;34m(*args, **kwargs)\u001b[0m\n\u001b[1;32m    <a href='file:///home/gary/mambaforge3/envs/flashlight/lib/python3.10/site-packages/jax/_src/profiler.py?line=202'>203</a>\u001b[0m \u001b[39m@wraps\u001b[39m(func)\n\u001b[1;32m    <a href='file:///home/gary/mambaforge3/envs/flashlight/lib/python3.10/site-packages/jax/_src/profiler.py?line=203'>204</a>\u001b[0m \u001b[39mdef\u001b[39;00m \u001b[39mwrapper\u001b[39m(\u001b[39m*\u001b[39margs, \u001b[39m*\u001b[39m\u001b[39m*\u001b[39mkwargs):\n\u001b[1;32m    <a href='file:///home/gary/mambaforge3/envs/flashlight/lib/python3.10/site-packages/jax/_src/profiler.py?line=204'>205</a>\u001b[0m   \u001b[39mwith\u001b[39;00m TraceAnnotation(name, \u001b[39m*\u001b[39m\u001b[39m*\u001b[39mdecorator_kwargs):\n\u001b[0;32m--> <a href='file:///home/gary/mambaforge3/envs/flashlight/lib/python3.10/site-packages/jax/_src/profiler.py?line=205'>206</a>\u001b[0m     \u001b[39mreturn\u001b[39;00m func(\u001b[39m*\u001b[39;49margs, \u001b[39m*\u001b[39;49m\u001b[39m*\u001b[39;49mkwargs)\n\u001b[1;32m    <a href='file:///home/gary/mambaforge3/envs/flashlight/lib/python3.10/site-packages/jax/_src/profiler.py?line=206'>207</a>\u001b[0m   \u001b[39mreturn\u001b[39;00m wrapper\n",
      "File \u001b[0;32m~/mambaforge3/envs/flashlight/lib/python3.10/site-packages/jax/interpreters/partial_eval.py:556\u001b[0m, in \u001b[0;36mtrace_to_jaxpr\u001b[0;34m(fun, pvals, instantiate)\u001b[0m\n\u001b[1;32m    <a href='file:///home/gary/mambaforge3/envs/flashlight/lib/python3.10/site-packages/jax/interpreters/partial_eval.py?line=553'>554</a>\u001b[0m \u001b[39mwith\u001b[39;00m core\u001b[39m.\u001b[39mnew_main(JaxprTrace) \u001b[39mas\u001b[39;00m main:\n\u001b[1;32m    <a href='file:///home/gary/mambaforge3/envs/flashlight/lib/python3.10/site-packages/jax/interpreters/partial_eval.py?line=554'>555</a>\u001b[0m   fun \u001b[39m=\u001b[39m trace_to_subjaxpr(fun, main, instantiate)\n\u001b[0;32m--> <a href='file:///home/gary/mambaforge3/envs/flashlight/lib/python3.10/site-packages/jax/interpreters/partial_eval.py?line=555'>556</a>\u001b[0m   jaxpr, (out_pvals, consts, env) \u001b[39m=\u001b[39m fun\u001b[39m.\u001b[39;49mcall_wrapped(pvals)\n\u001b[1;32m    <a href='file:///home/gary/mambaforge3/envs/flashlight/lib/python3.10/site-packages/jax/interpreters/partial_eval.py?line=556'>557</a>\u001b[0m   \u001b[39massert\u001b[39;00m \u001b[39mnot\u001b[39;00m env\n\u001b[1;32m    <a href='file:///home/gary/mambaforge3/envs/flashlight/lib/python3.10/site-packages/jax/interpreters/partial_eval.py?line=557'>558</a>\u001b[0m   \u001b[39mdel\u001b[39;00m main, fun, env\n",
      "File \u001b[0;32m~/mambaforge3/envs/flashlight/lib/python3.10/site-packages/jax/linear_util.py:166\u001b[0m, in \u001b[0;36mWrappedFun.call_wrapped\u001b[0;34m(self, *args, **kwargs)\u001b[0m\n\u001b[1;32m    <a href='file:///home/gary/mambaforge3/envs/flashlight/lib/python3.10/site-packages/jax/linear_util.py?line=162'>163</a>\u001b[0m gen \u001b[39m=\u001b[39m gen_static_args \u001b[39m=\u001b[39m out_store \u001b[39m=\u001b[39m \u001b[39mNone\u001b[39;00m\n\u001b[1;32m    <a href='file:///home/gary/mambaforge3/envs/flashlight/lib/python3.10/site-packages/jax/linear_util.py?line=164'>165</a>\u001b[0m \u001b[39mtry\u001b[39;00m:\n\u001b[0;32m--> <a href='file:///home/gary/mambaforge3/envs/flashlight/lib/python3.10/site-packages/jax/linear_util.py?line=165'>166</a>\u001b[0m   ans \u001b[39m=\u001b[39m \u001b[39mself\u001b[39;49m\u001b[39m.\u001b[39;49mf(\u001b[39m*\u001b[39;49margs, \u001b[39m*\u001b[39;49m\u001b[39m*\u001b[39;49m\u001b[39mdict\u001b[39;49m(\u001b[39mself\u001b[39;49m\u001b[39m.\u001b[39;49mparams, \u001b[39m*\u001b[39;49m\u001b[39m*\u001b[39;49mkwargs))\n\u001b[1;32m    <a href='file:///home/gary/mambaforge3/envs/flashlight/lib/python3.10/site-packages/jax/linear_util.py?line=166'>167</a>\u001b[0m \u001b[39mexcept\u001b[39;00m:\n\u001b[1;32m    <a href='file:///home/gary/mambaforge3/envs/flashlight/lib/python3.10/site-packages/jax/linear_util.py?line=167'>168</a>\u001b[0m   \u001b[39m# Some transformations yield from inside context managers, so we have to\u001b[39;00m\n\u001b[1;32m    <a href='file:///home/gary/mambaforge3/envs/flashlight/lib/python3.10/site-packages/jax/linear_util.py?line=168'>169</a>\u001b[0m   \u001b[39m# interrupt them before reraising the exception. Otherwise they will only\u001b[39;00m\n\u001b[1;32m    <a href='file:///home/gary/mambaforge3/envs/flashlight/lib/python3.10/site-packages/jax/linear_util.py?line=169'>170</a>\u001b[0m   \u001b[39m# get garbage-collected at some later time, running their cleanup tasks\u001b[39;00m\n\u001b[1;32m    <a href='file:///home/gary/mambaforge3/envs/flashlight/lib/python3.10/site-packages/jax/linear_util.py?line=170'>171</a>\u001b[0m   \u001b[39m# only after this exception is handled, which can corrupt the global\u001b[39;00m\n\u001b[1;32m    <a href='file:///home/gary/mambaforge3/envs/flashlight/lib/python3.10/site-packages/jax/linear_util.py?line=171'>172</a>\u001b[0m   \u001b[39m# state.\u001b[39;00m\n\u001b[1;32m    <a href='file:///home/gary/mambaforge3/envs/flashlight/lib/python3.10/site-packages/jax/linear_util.py?line=172'>173</a>\u001b[0m   \u001b[39mwhile\u001b[39;00m stack:\n",
      "    \u001b[0;31m[... skipping hidden 1 frame]\u001b[0m\n",
      "File \u001b[0;32m~/mambaforge3/envs/flashlight/lib/python3.10/site-packages/jax/_src/api.py:427\u001b[0m, in \u001b[0;36m_cpp_jit.<locals>.cache_miss\u001b[0;34m(*args, **kwargs)\u001b[0m\n\u001b[1;32m    <a href='file:///home/gary/mambaforge3/envs/flashlight/lib/python3.10/site-packages/jax/_src/api.py?line=424'>425</a>\u001b[0m   _check_arg(arg)\n\u001b[1;32m    <a href='file:///home/gary/mambaforge3/envs/flashlight/lib/python3.10/site-packages/jax/_src/api.py?line=425'>426</a>\u001b[0m flat_fun, out_tree \u001b[39m=\u001b[39m flatten_fun(closed_fun, in_tree)\n\u001b[0;32m--> <a href='file:///home/gary/mambaforge3/envs/flashlight/lib/python3.10/site-packages/jax/_src/api.py?line=426'>427</a>\u001b[0m out_flat \u001b[39m=\u001b[39m xla\u001b[39m.\u001b[39;49mxla_call(\n\u001b[1;32m    <a href='file:///home/gary/mambaforge3/envs/flashlight/lib/python3.10/site-packages/jax/_src/api.py?line=427'>428</a>\u001b[0m     flat_fun, \u001b[39m*\u001b[39;49margs_flat,\n\u001b[1;32m    <a href='file:///home/gary/mambaforge3/envs/flashlight/lib/python3.10/site-packages/jax/_src/api.py?line=428'>429</a>\u001b[0m     device\u001b[39m=\u001b[39;49mdevice, backend\u001b[39m=\u001b[39;49mbackend, name\u001b[39m=\u001b[39;49mflat_fun\u001b[39m.\u001b[39;49m\u001b[39m__name__\u001b[39;49m,\n\u001b[1;32m    <a href='file:///home/gary/mambaforge3/envs/flashlight/lib/python3.10/site-packages/jax/_src/api.py?line=429'>430</a>\u001b[0m     donated_invars\u001b[39m=\u001b[39;49mdonated_invars, inline\u001b[39m=\u001b[39;49minline)\n\u001b[1;32m    <a href='file:///home/gary/mambaforge3/envs/flashlight/lib/python3.10/site-packages/jax/_src/api.py?line=430'>431</a>\u001b[0m out_pytree_def \u001b[39m=\u001b[39m out_tree()\n\u001b[1;32m    <a href='file:///home/gary/mambaforge3/envs/flashlight/lib/python3.10/site-packages/jax/_src/api.py?line=431'>432</a>\u001b[0m out \u001b[39m=\u001b[39m tree_unflatten(out_pytree_def, out_flat)\n",
      "File \u001b[0;32m~/mambaforge3/envs/flashlight/lib/python3.10/site-packages/jax/core.py:1690\u001b[0m, in \u001b[0;36mCallPrimitive.bind\u001b[0;34m(self, fun, *args, **params)\u001b[0m\n\u001b[1;32m   <a href='file:///home/gary/mambaforge3/envs/flashlight/lib/python3.10/site-packages/jax/core.py?line=1688'>1689</a>\u001b[0m \u001b[39mdef\u001b[39;00m \u001b[39mbind\u001b[39m(\u001b[39mself\u001b[39m, fun, \u001b[39m*\u001b[39margs, \u001b[39m*\u001b[39m\u001b[39m*\u001b[39mparams):\n\u001b[0;32m-> <a href='file:///home/gary/mambaforge3/envs/flashlight/lib/python3.10/site-packages/jax/core.py?line=1689'>1690</a>\u001b[0m   \u001b[39mreturn\u001b[39;00m call_bind(\u001b[39mself\u001b[39;49m, fun, \u001b[39m*\u001b[39;49margs, \u001b[39m*\u001b[39;49m\u001b[39m*\u001b[39;49mparams)\n",
      "File \u001b[0;32m~/mambaforge3/envs/flashlight/lib/python3.10/site-packages/jax/core.py:1702\u001b[0m, in \u001b[0;36mcall_bind\u001b[0;34m(primitive, fun, *args, **params)\u001b[0m\n\u001b[1;32m   <a href='file:///home/gary/mambaforge3/envs/flashlight/lib/python3.10/site-packages/jax/core.py?line=1698'>1699</a>\u001b[0m fun, env_trace_todo \u001b[39m=\u001b[39m process_env_traces_call(\n\u001b[1;32m   <a href='file:///home/gary/mambaforge3/envs/flashlight/lib/python3.10/site-packages/jax/core.py?line=1699'>1700</a>\u001b[0m     fun, primitive, top_trace \u001b[39mand\u001b[39;00m top_trace\u001b[39m.\u001b[39mlevel, \u001b[39mtuple\u001b[39m(params\u001b[39m.\u001b[39mitems()))\n\u001b[1;32m   <a href='file:///home/gary/mambaforge3/envs/flashlight/lib/python3.10/site-packages/jax/core.py?line=1700'>1701</a>\u001b[0m tracers \u001b[39m=\u001b[39m \u001b[39mmap\u001b[39m(top_trace\u001b[39m.\u001b[39mfull_raise, args)\n\u001b[0;32m-> <a href='file:///home/gary/mambaforge3/envs/flashlight/lib/python3.10/site-packages/jax/core.py?line=1701'>1702</a>\u001b[0m outs \u001b[39m=\u001b[39m top_trace\u001b[39m.\u001b[39;49mprocess_call(primitive, fun, tracers, params)\n\u001b[1;32m   <a href='file:///home/gary/mambaforge3/envs/flashlight/lib/python3.10/site-packages/jax/core.py?line=1702'>1703</a>\u001b[0m \u001b[39mreturn\u001b[39;00m \u001b[39mmap\u001b[39m(full_lower, apply_todos(env_trace_todo(), outs))\n",
      "File \u001b[0;32m~/mambaforge3/envs/flashlight/lib/python3.10/site-packages/jax/interpreters/ad.py:324\u001b[0m, in \u001b[0;36mJVPTrace.process_call\u001b[0;34m(self, call_primitive, f, tracers, params)\u001b[0m\n\u001b[1;32m    <a href='file:///home/gary/mambaforge3/envs/flashlight/lib/python3.10/site-packages/jax/interpreters/ad.py?line=320'>321</a>\u001b[0m update_params \u001b[39m=\u001b[39m call_param_updaters\u001b[39m.\u001b[39mget(call_primitive)\n\u001b[1;32m    <a href='file:///home/gary/mambaforge3/envs/flashlight/lib/python3.10/site-packages/jax/interpreters/ad.py?line=321'>322</a>\u001b[0m new_params \u001b[39m=\u001b[39m (update_params(params, nz_tangents, nz_tangents_out)\n\u001b[1;32m    <a href='file:///home/gary/mambaforge3/envs/flashlight/lib/python3.10/site-packages/jax/interpreters/ad.py?line=322'>323</a>\u001b[0m               \u001b[39mif\u001b[39;00m update_params \u001b[39melse\u001b[39;00m params)\n\u001b[0;32m--> <a href='file:///home/gary/mambaforge3/envs/flashlight/lib/python3.10/site-packages/jax/interpreters/ad.py?line=323'>324</a>\u001b[0m result \u001b[39m=\u001b[39m call_primitive\u001b[39m.\u001b[39;49mbind(f_jvp, \u001b[39m*\u001b[39;49mprimals, \u001b[39m*\u001b[39;49mnonzero_tangents, \u001b[39m*\u001b[39;49m\u001b[39m*\u001b[39;49mnew_params)\n\u001b[1;32m    <a href='file:///home/gary/mambaforge3/envs/flashlight/lib/python3.10/site-packages/jax/interpreters/ad.py?line=324'>325</a>\u001b[0m primal_out, tangent_out \u001b[39m=\u001b[39m tree_unflatten(out_tree_def(), result)\n\u001b[1;32m    <a href='file:///home/gary/mambaforge3/envs/flashlight/lib/python3.10/site-packages/jax/interpreters/ad.py?line=325'>326</a>\u001b[0m \u001b[39mreturn\u001b[39;00m [JVPTracer(\u001b[39mself\u001b[39m, p, t) \u001b[39mfor\u001b[39;00m p, t \u001b[39min\u001b[39;00m \u001b[39mzip\u001b[39m(primal_out, tangent_out)]\n",
      "File \u001b[0;32m~/mambaforge3/envs/flashlight/lib/python3.10/site-packages/jax/core.py:1690\u001b[0m, in \u001b[0;36mCallPrimitive.bind\u001b[0;34m(self, fun, *args, **params)\u001b[0m\n\u001b[1;32m   <a href='file:///home/gary/mambaforge3/envs/flashlight/lib/python3.10/site-packages/jax/core.py?line=1688'>1689</a>\u001b[0m \u001b[39mdef\u001b[39;00m \u001b[39mbind\u001b[39m(\u001b[39mself\u001b[39m, fun, \u001b[39m*\u001b[39margs, \u001b[39m*\u001b[39m\u001b[39m*\u001b[39mparams):\n\u001b[0;32m-> <a href='file:///home/gary/mambaforge3/envs/flashlight/lib/python3.10/site-packages/jax/core.py?line=1689'>1690</a>\u001b[0m   \u001b[39mreturn\u001b[39;00m call_bind(\u001b[39mself\u001b[39;49m, fun, \u001b[39m*\u001b[39;49margs, \u001b[39m*\u001b[39;49m\u001b[39m*\u001b[39;49mparams)\n",
      "File \u001b[0;32m~/mambaforge3/envs/flashlight/lib/python3.10/site-packages/jax/core.py:1702\u001b[0m, in \u001b[0;36mcall_bind\u001b[0;34m(primitive, fun, *args, **params)\u001b[0m\n\u001b[1;32m   <a href='file:///home/gary/mambaforge3/envs/flashlight/lib/python3.10/site-packages/jax/core.py?line=1698'>1699</a>\u001b[0m fun, env_trace_todo \u001b[39m=\u001b[39m process_env_traces_call(\n\u001b[1;32m   <a href='file:///home/gary/mambaforge3/envs/flashlight/lib/python3.10/site-packages/jax/core.py?line=1699'>1700</a>\u001b[0m     fun, primitive, top_trace \u001b[39mand\u001b[39;00m top_trace\u001b[39m.\u001b[39mlevel, \u001b[39mtuple\u001b[39m(params\u001b[39m.\u001b[39mitems()))\n\u001b[1;32m   <a href='file:///home/gary/mambaforge3/envs/flashlight/lib/python3.10/site-packages/jax/core.py?line=1700'>1701</a>\u001b[0m tracers \u001b[39m=\u001b[39m \u001b[39mmap\u001b[39m(top_trace\u001b[39m.\u001b[39mfull_raise, args)\n\u001b[0;32m-> <a href='file:///home/gary/mambaforge3/envs/flashlight/lib/python3.10/site-packages/jax/core.py?line=1701'>1702</a>\u001b[0m outs \u001b[39m=\u001b[39m top_trace\u001b[39m.\u001b[39;49mprocess_call(primitive, fun, tracers, params)\n\u001b[1;32m   <a href='file:///home/gary/mambaforge3/envs/flashlight/lib/python3.10/site-packages/jax/core.py?line=1702'>1703</a>\u001b[0m \u001b[39mreturn\u001b[39;00m \u001b[39mmap\u001b[39m(full_lower, apply_todos(env_trace_todo(), outs))\n",
      "File \u001b[0;32m~/mambaforge3/envs/flashlight/lib/python3.10/site-packages/jax/interpreters/partial_eval.py:200\u001b[0m, in \u001b[0;36mJaxprTrace.process_call\u001b[0;34m(self, primitive, f, tracers, params)\u001b[0m\n\u001b[1;32m    <a href='file:///home/gary/mambaforge3/envs/flashlight/lib/python3.10/site-packages/jax/interpreters/partial_eval.py?line=196'>197</a>\u001b[0m const_params \u001b[39m=\u001b[39m update_params(params, in_knowns, \u001b[39m0\u001b[39m)\n\u001b[1;32m    <a href='file:///home/gary/mambaforge3/envs/flashlight/lib/python3.10/site-packages/jax/interpreters/partial_eval.py?line=198'>199</a>\u001b[0m \u001b[39m# Run the call, getting known out vals and aux data used for staged-out call\u001b[39;00m\n\u001b[0;32m--> <a href='file:///home/gary/mambaforge3/envs/flashlight/lib/python3.10/site-packages/jax/interpreters/partial_eval.py?line=199'>200</a>\u001b[0m out \u001b[39m=\u001b[39m primitive\u001b[39m.\u001b[39;49mbind(f, \u001b[39m*\u001b[39;49min_consts, \u001b[39m*\u001b[39;49m\u001b[39m*\u001b[39;49mconst_params)\n\u001b[1;32m    <a href='file:///home/gary/mambaforge3/envs/flashlight/lib/python3.10/site-packages/jax/interpreters/partial_eval.py?line=200'>201</a>\u001b[0m out_knowns, out_avals, jaxpr, env \u001b[39m=\u001b[39m aux()\n\u001b[1;32m    <a href='file:///home/gary/mambaforge3/envs/flashlight/lib/python3.10/site-packages/jax/interpreters/partial_eval.py?line=201'>202</a>\u001b[0m \u001b[39m# Split apart known outputs from the original call and residuals.\u001b[39;00m\n",
      "File \u001b[0;32m~/mambaforge3/envs/flashlight/lib/python3.10/site-packages/jax/core.py:1690\u001b[0m, in \u001b[0;36mCallPrimitive.bind\u001b[0;34m(self, fun, *args, **params)\u001b[0m\n\u001b[1;32m   <a href='file:///home/gary/mambaforge3/envs/flashlight/lib/python3.10/site-packages/jax/core.py?line=1688'>1689</a>\u001b[0m \u001b[39mdef\u001b[39;00m \u001b[39mbind\u001b[39m(\u001b[39mself\u001b[39m, fun, \u001b[39m*\u001b[39margs, \u001b[39m*\u001b[39m\u001b[39m*\u001b[39mparams):\n\u001b[0;32m-> <a href='file:///home/gary/mambaforge3/envs/flashlight/lib/python3.10/site-packages/jax/core.py?line=1689'>1690</a>\u001b[0m   \u001b[39mreturn\u001b[39;00m call_bind(\u001b[39mself\u001b[39;49m, fun, \u001b[39m*\u001b[39;49margs, \u001b[39m*\u001b[39;49m\u001b[39m*\u001b[39;49mparams)\n",
      "File \u001b[0;32m~/mambaforge3/envs/flashlight/lib/python3.10/site-packages/jax/core.py:1702\u001b[0m, in \u001b[0;36mcall_bind\u001b[0;34m(primitive, fun, *args, **params)\u001b[0m\n\u001b[1;32m   <a href='file:///home/gary/mambaforge3/envs/flashlight/lib/python3.10/site-packages/jax/core.py?line=1698'>1699</a>\u001b[0m fun, env_trace_todo \u001b[39m=\u001b[39m process_env_traces_call(\n\u001b[1;32m   <a href='file:///home/gary/mambaforge3/envs/flashlight/lib/python3.10/site-packages/jax/core.py?line=1699'>1700</a>\u001b[0m     fun, primitive, top_trace \u001b[39mand\u001b[39;00m top_trace\u001b[39m.\u001b[39mlevel, \u001b[39mtuple\u001b[39m(params\u001b[39m.\u001b[39mitems()))\n\u001b[1;32m   <a href='file:///home/gary/mambaforge3/envs/flashlight/lib/python3.10/site-packages/jax/core.py?line=1700'>1701</a>\u001b[0m tracers \u001b[39m=\u001b[39m \u001b[39mmap\u001b[39m(top_trace\u001b[39m.\u001b[39mfull_raise, args)\n\u001b[0;32m-> <a href='file:///home/gary/mambaforge3/envs/flashlight/lib/python3.10/site-packages/jax/core.py?line=1701'>1702</a>\u001b[0m outs \u001b[39m=\u001b[39m top_trace\u001b[39m.\u001b[39;49mprocess_call(primitive, fun, tracers, params)\n\u001b[1;32m   <a href='file:///home/gary/mambaforge3/envs/flashlight/lib/python3.10/site-packages/jax/core.py?line=1702'>1703</a>\u001b[0m \u001b[39mreturn\u001b[39;00m \u001b[39mmap\u001b[39m(full_lower, apply_todos(env_trace_todo(), outs))\n",
      "File \u001b[0;32m~/mambaforge3/envs/flashlight/lib/python3.10/site-packages/jax/core.py:601\u001b[0m, in \u001b[0;36mEvalTrace.process_call\u001b[0;34m(self, primitive, f, tracers, params)\u001b[0m\n\u001b[1;32m    <a href='file:///home/gary/mambaforge3/envs/flashlight/lib/python3.10/site-packages/jax/core.py?line=599'>600</a>\u001b[0m \u001b[39mdef\u001b[39;00m \u001b[39mprocess_call\u001b[39m(\u001b[39mself\u001b[39m, primitive, f, tracers, params):\n\u001b[0;32m--> <a href='file:///home/gary/mambaforge3/envs/flashlight/lib/python3.10/site-packages/jax/core.py?line=600'>601</a>\u001b[0m   \u001b[39mreturn\u001b[39;00m primitive\u001b[39m.\u001b[39;49mimpl(f, \u001b[39m*\u001b[39;49mtracers, \u001b[39m*\u001b[39;49m\u001b[39m*\u001b[39;49mparams)\n",
      "File \u001b[0;32m~/mambaforge3/envs/flashlight/lib/python3.10/site-packages/jax/_src/dispatch.py:145\u001b[0m, in \u001b[0;36m_xla_call_impl\u001b[0;34m(***failed resolving arguments***)\u001b[0m\n\u001b[1;32m    <a href='file:///home/gary/mambaforge3/envs/flashlight/lib/python3.10/site-packages/jax/_src/dispatch.py?line=141'>142</a>\u001b[0m compiled_fun \u001b[39m=\u001b[39m _xla_callable(fun, device, backend, name, donated_invars,\n\u001b[1;32m    <a href='file:///home/gary/mambaforge3/envs/flashlight/lib/python3.10/site-packages/jax/_src/dispatch.py?line=142'>143</a>\u001b[0m                              \u001b[39m*\u001b[39munsafe_map(arg_spec, args))\n\u001b[1;32m    <a href='file:///home/gary/mambaforge3/envs/flashlight/lib/python3.10/site-packages/jax/_src/dispatch.py?line=143'>144</a>\u001b[0m \u001b[39mtry\u001b[39;00m:\n\u001b[0;32m--> <a href='file:///home/gary/mambaforge3/envs/flashlight/lib/python3.10/site-packages/jax/_src/dispatch.py?line=144'>145</a>\u001b[0m   out \u001b[39m=\u001b[39m compiled_fun(\u001b[39m*\u001b[39;49margs)\n\u001b[1;32m    <a href='file:///home/gary/mambaforge3/envs/flashlight/lib/python3.10/site-packages/jax/_src/dispatch.py?line=145'>146</a>\u001b[0m \u001b[39mexcept\u001b[39;00m \u001b[39mFloatingPointError\u001b[39;00m:\n\u001b[1;32m    <a href='file:///home/gary/mambaforge3/envs/flashlight/lib/python3.10/site-packages/jax/_src/dispatch.py?line=146'>147</a>\u001b[0m   \u001b[39massert\u001b[39;00m config\u001b[39m.\u001b[39mjax_debug_nans \u001b[39mor\u001b[39;00m config\u001b[39m.\u001b[39mjax_debug_infs  \u001b[39m# compiled_fun can only raise in this case\u001b[39;00m\n",
      "File \u001b[0;32m~/mambaforge3/envs/flashlight/lib/python3.10/site-packages/jax/_src/dispatch.py:444\u001b[0m, in \u001b[0;36m_execute_compiled\u001b[0;34m(name, compiled, output_buffer_counts, result_handlers, kept_var_idx, *args)\u001b[0m\n\u001b[1;32m    <a href='file:///home/gary/mambaforge3/envs/flashlight/lib/python3.10/site-packages/jax/_src/dispatch.py?line=440'>441</a>\u001b[0m device, \u001b[39m=\u001b[39m compiled\u001b[39m.\u001b[39mlocal_devices()\n\u001b[1;32m    <a href='file:///home/gary/mambaforge3/envs/flashlight/lib/python3.10/site-packages/jax/_src/dispatch.py?line=441'>442</a>\u001b[0m input_bufs \u001b[39m=\u001b[39m util\u001b[39m.\u001b[39mflatten(\n\u001b[1;32m    <a href='file:///home/gary/mambaforge3/envs/flashlight/lib/python3.10/site-packages/jax/_src/dispatch.py?line=442'>443</a>\u001b[0m     device_put(x, device) \u001b[39mfor\u001b[39;00m i, x \u001b[39min\u001b[39;00m \u001b[39menumerate\u001b[39m(args) \u001b[39mif\u001b[39;00m i \u001b[39min\u001b[39;00m kept_var_idx)\n\u001b[0;32m--> <a href='file:///home/gary/mambaforge3/envs/flashlight/lib/python3.10/site-packages/jax/_src/dispatch.py?line=443'>444</a>\u001b[0m out_bufs \u001b[39m=\u001b[39m compiled\u001b[39m.\u001b[39;49mexecute(input_bufs)\n\u001b[1;32m    <a href='file:///home/gary/mambaforge3/envs/flashlight/lib/python3.10/site-packages/jax/_src/dispatch.py?line=444'>445</a>\u001b[0m check_special(name, out_bufs)\n\u001b[1;32m    <a href='file:///home/gary/mambaforge3/envs/flashlight/lib/python3.10/site-packages/jax/_src/dispatch.py?line=445'>446</a>\u001b[0m \u001b[39mif\u001b[39;00m output_buffer_counts \u001b[39mis\u001b[39;00m \u001b[39mNone\u001b[39;00m:\n",
      "\u001b[0;31mKeyboardInterrupt\u001b[0m: "
     ]
    },
    {
     "data": {
      "image/png": "[encoded data removed]",
      "text/plain": [
       "<Figure size 432x288 with 1 Axes>"
      ]
     },
     "metadata": {
      "needs_background": "light"
     },
     "output_type": "display_data"
    }
   ],
   "source": [
    "from IPython import display\n",
    "loss_history = np.zeros((n_epoch)) * np.nan\n",
    "\n",
    "for i in range(n_epoch):\n",
    "    loss_val, grads = loss_grad_fn(params, u_train)\n",
    "    loss_history[i] = loss_val\n",
    "    if loss_val < min_loss:\n",
    "        min_loss = loss_val\n",
    "        best_params = params\n",
    "    updates, opt_state = tx.update(grads, opt_state)\n",
    "    params = optax.apply_updates(params, updates)\n",
    "    if i % 10 == 0:\n",
    "        print('Loss step {}: '.format(i), loss_val)\n",
    "    if i % 100 == 0:\n",
    "        last_epochs = np.arange(np.max([i-1000,0]), i, dtype=int)\n",
    "        plt.clf()\n",
    "        plt.semilogy(last_epochs, loss_history[last_epochs], 'k')\n",
    "        display.clear_output(wait=True)\n",
    "        display.display(plt.gcf())\n",
    "    if loss_val < 1e-3:\n",
    "        break\n",
    "params = best_params"
   ]
  },
  {
   "cell_type": "code",
   "execution_count": null,
   "metadata": {},
   "outputs": [],
   "source": [
    "phi = model().apply(params, u_ref[0], 0, method=VAE.basis)\n",
    "plt.plot(phi)"
   ]
  },
  {
   "cell_type": "code",
   "execution_count": null,
   "metadata": {},
   "outputs": [],
   "source": [
    "plt.figure(figsize=(20, 6), dpi=80)\n",
    "plt.plot(u_ref[405])\n",
    "plt.plot(model().apply(params, u_ref[405]))"
   ]
  },
  {
   "cell_type": "code",
   "execution_count": null,
   "metadata": {},
   "outputs": [],
   "source": [
    "t_start = 0.0\n",
    "t_final = 0.5\n",
    "t_steps = 500\n",
    "t_sequence = np.linspace(t_start, t_final, t_steps + 1)\n",
    "dt = (t_final - t_start) / t_steps\n",
    "\n",
    "V = FunctionSpace(mesh, \"CG\", 1)"
   ]
  },
  {
   "cell_type": "code",
   "execution_count": null,
   "metadata": {},
   "outputs": [],
   "source": [
    "nelem = mesh.num_cells()\n",
    "\n",
    "# Per element\n",
    "nqp = 2\n",
    "ndof = 2\n",
    "nvertex = 2\n",
    "nnode = 2\n",
    "ndim = 2\n",
    "\n",
    "# Data structure to be computed per element\n",
    "dof_map = np.zeros((nelem,ndof), dtype=int)\n",
    "JxW = np.zeros((nelem,nqp))\n",
    "grad_test = np.zeros((nelem,nqp,nnode,ndim))\n",
    "\n",
    "lagrange = basix.create_element(ElementFamily.P, CellType.interval, 1, LagrangeVariant.equispaced)\n",
    "ref_points, weights = basix.make_quadrature(CellType.interval, 2)\n",
    "test, ref_grad_test = lagrange.tabulate(1, ref_points)\n",
    "test = test.reshape(2,2)\n",
    "ref_grad_test = ref_grad_test.reshape(2,2)\n",
    "\n",
    "for e in range(nelem):\n",
    "    cell = Cell(mesh, e)\n",
    "    dof_map[e] = V.dofmap().cell_dofs(e)\n",
    "    coordinates = np.array(cell.get_coordinate_dofs()).reshape(2,2)\n",
    "    for qp,weight in enumerate(weights):\n",
    "        J = jnp.matmul(ref_grad_test[qp], coordinates)\n",
    "        detJ = jnp.sqrt(jnp.dot(J, J))\n",
    "        JxW[e][qp] = detJ*weight\n",
    "        grad_test[e][qp] = jnp.vstack((ref_grad_test[qp]/detJ, jnp.zeros((1,2)))).T\n",
    "\n",
    "dof_map = jnp.array(dof_map)\n",
    "JxW = jnp.array(JxW)\n",
    "grad_test = jnp.array(grad_test)"
   ]
  },
  {
   "cell_type": "code",
   "execution_count": null,
   "metadata": {},
   "outputs": [],
   "source": [
    "def local_residual(dofs,JxW,test,grad_test,ut,ut_old):\n",
    "    local_re = jnp.zeros((N,))\n",
    "    for i in range(nnode):\n",
    "        r = 0\n",
    "        for qp in range(nqp):\n",
    "            u = jnp.dot(test[qp], ut[dofs])\n",
    "            u_old = jnp.dot(test[qp], ut_old[dofs])\n",
    "            grad_u = jnp.matmul(ut[dofs], grad_test[qp])\n",
    "            r = r + (test[qp][i]*(u-u_old)/dt+nu*jnp.dot(grad_test[qp][i],grad_u)+test[qp][i]*grad_u[0]*u) * JxW[qp]\n",
    "        local_re = local_re.at[dofs[i]].set(r)\n",
    "    return local_re"
   ]
  },
  {
   "cell_type": "code",
   "execution_count": null,
   "metadata": {},
   "outputs": [],
   "source": [
    "def objective(ur, ur_old, params):\n",
    "    ut = model().apply(params, ur, method=VAE.decode)\n",
    "    ut_old = model().apply(params, ur_old, method=VAE.decode)\n",
    "    local_res = jax.vmap(local_residual, in_axes=(0,0,None,0,None,None), out_axes=0)(dof_map,JxW,test,grad_test,ut,ut_old)\n",
    "    r = jnp.sum(local_res,axis=0)\n",
    "    return 0.5*jnp.dot(r,r)\n",
    "\n",
    "residual = jax.jit(jax.grad(objective))\n",
    "\n",
    "# def residual(ur, ur_old, params):\n",
    "#     ut = model().apply(params, ur, method=VAE.decode)\n",
    "#     ut_old = model().apply(params, ur_old, method=VAE.decode)\n",
    "#     local_res = jax.vmap(local_residual, in_axes=(0,0,None,0,None,None), out_axes=0)(dof_map,JxW,test,grad_test,ut,ut_old)\n",
    "#     r = jnp.sum(local_res,axis=0)\n",
    "#     return r\n",
    "\n",
    "jacobian = jax.jit(jax.jacfwd(jax.grad(objective)))"
   ]
  },
  {
   "cell_type": "code",
   "execution_count": null,
   "metadata": {},
   "outputs": [],
   "source": [
    "def solve(u, u_old, nl_max_its=10, RTOL=1e-6, ATOL=1e-8):\n",
    "    def converged(r, r0):\n",
    "        if jnp.linalg.norm(r) < ATOL:\n",
    "            return True\n",
    "        if jnp.linalg.norm(r) < RTOL * jnp.linalg.norm(r0):\n",
    "            return True\n",
    "        return False\n",
    "\n",
    "    r = residual(u, u_old, params)\n",
    "    r0 = r\n",
    "    for itr in range(nl_max_its):\n",
    "        print('Itr = {:}, |R| = {:.3E}'.format(itr, jnp.linalg.norm(r)))\n",
    "\n",
    "        if converged(r, r0):\n",
    "            return u\n",
    "        \n",
    "        J = jacobian(u, u_old, params)\n",
    "\n",
    "        eigvals,_ = jnp.linalg.eig(J)\n",
    "        print('cond = {:}'.format(jnp.max(eigvals) / jnp.min(eigvals)))\n",
    "\n",
    "        du = - jnp.linalg.solve(J, r)\n",
    "        u = u + du\n",
    "        r = residual(u, u_old, params)\n",
    "\n",
    "    return u"
   ]
  },
  {
   "cell_type": "code",
   "execution_count": null,
   "metadata": {},
   "outputs": [],
   "source": [
    "u_approx = np.zeros((t_steps+1,N))\n",
    "\n",
    "u0 = Function(V)\n",
    "u0_expr = Expression(\n",
    "    \"x[0] < 1 ? 1+A*(sin(2*pi*x[0]-pi/2)+1) : 1\", degree=1, A=A)\n",
    "u0.interpolate(u0_expr)\n",
    "\n",
    "ur0 = model().apply(params, u0.vector().get_local(), method=VAE.encode)\n",
    "ur = ur0\n",
    "\n",
    "def residual_helper(ur, ur_old, params):\n",
    "    return np.array(residual(ur, ur_old, params))\n",
    "\n",
    "def jacobian_helper(ur, ur_old, params):\n",
    "    return np.array(jacobian(ur, ur_old, params))\n",
    "\n",
    "from IPython.display import clear_output\n",
    "\n",
    "for i, t in enumerate(t_sequence):\n",
    "    if i % 2 == 0:\n",
    "        clear_output(wait=True)\n",
    "    print('\\nstep = {}, t = {}'.format(i, t))\n",
    "    ur_old = np.array(ur)\n",
    "    ur = solve(ur, ur_old, nl_max_its=10)\n",
    "    # res = least_squares(residual_helper, ur, jac=jacobian_helper, loss='soft_l1', tr_solver='exact', args=(ur_old, params), verbose=2)\n",
    "    # ur = res.x\n",
    "    # ur,_,_,mesg = fsolve(residual_helper, ur, fprime=jacobian_helper, args=(ur_old, params), full_output=True)\n",
    "    # print('|R| = {:}, {:}'.format(jnp.linalg.norm(residual(ur, ur_old, params)), mesg))\n",
    "    u_approx[i] = model().apply(params, ur, method=VAE.decode)"
   ]
  },
  {
   "cell_type": "code",
   "execution_count": null,
   "metadata": {},
   "outputs": [],
   "source": [
    "fig, ax = plt.subplots()\n",
    "im = ax.imshow(u_approx.T, aspect='auto', cmap='jet', vmin=1, vmax=2)\n",
    "cb = fig.colorbar(im)"
   ]
  },
  {
   "cell_type": "code",
   "execution_count": null,
   "metadata": {},
   "outputs": [],
   "source": [
    "fig, ax = plt.subplots()\n",
    "im = ax.imshow(u_ref.T, aspect='auto', cmap='jet', vmin=1, vmax=2)\n",
    "cb = fig.colorbar(im)"
   ]
  }
 ],
 "metadata": {
  "interpreter": {
   "hash": "c8475a232b822aed66d3bbbb71d7fb1340252d4f7b77b0b9050f60cc7b3f466a"
  },
  "kernelspec": {
   "display_name": "Python 3.10.2 ('fenics')",
   "language": "python",
   "name": "python3"
  },
  "language_info": {
   "codemirror_mode": {
    "name": "ipython",
    "version": 3
   },
   "file_extension": ".py",
   "mimetype": "text/x-python",
   "name": "python",
   "nbconvert_exporter": "python",
   "pygments_lexer": "ipython3",
   "version": "3.10.2"
  },
  "orig_nbformat": 4
 },
 "nbformat": 4,
 "nbformat_minor": 2
}
