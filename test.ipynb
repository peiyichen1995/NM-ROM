{
 "cells": [
  {
   "cell_type": "code",
   "execution_count": 10,
   "metadata": {},
   "outputs": [],
   "source": [
    "import basix\n",
    "from basix import ElementFamily, CellType, LagrangeVariant\n",
    "import jax.numpy as jnp\n",
    "import numpy as np\n",
    "import jax\n",
    "import h5py\n",
    "from fenics import *\n",
    "import _ctypes"
   ]
  },
  {
   "cell_type": "code",
   "execution_count": 14,
   "metadata": {},
   "outputs": [],
   "source": [
    "def read_mesh_and_function(file_name, var_name):\n",
    "\n",
    "    # Open solution file\n",
    "    infile = XDMFFile(file_name + \".xdmf\")\n",
    "    infile_h5 = h5py.File(file_name + \".h5\", \"r\")\n",
    "    t_steps = len(infile_h5[var_name].keys())\n",
    "\n",
    "    # Read in mesh\n",
    "    mesh = Mesh()\n",
    "    infile.read(mesh)\n",
    "\n",
    "    # Read function\n",
    "    V = FunctionSpace(mesh, \"CG\", 1)\n",
    "    u = Function(V)\n",
    "    solution = np.zeros((V.dim(), t_steps))\n",
    "    for i in range(t_steps):\n",
    "        infile.read_checkpoint(u, var_name, i - t_steps + 1)\n",
    "        solution[:, i] = u.vector().get_local()\n",
    "\n",
    "    # Clean up\n",
    "    infile.close()\n",
    "    infile_h5.close()\n",
    "\n",
    "    return mesh, solution\n",
    "    \n",
    "nu = 0.1\n",
    "mesh, u_ref = read_mesh_and_function(\"output/burgers_1D/nu_\"+str(nu)+\"/FOM\", \"u\")"
   ]
  },
  {
   "cell_type": "code",
   "execution_count": 15,
   "metadata": {},
   "outputs": [],
   "source": [
    "def di(obj_id):\n",
    "    \"\"\" Inverse of id() function. \"\"\"\n",
    "    return _ctypes.PyObj_FromPtr(obj_id)"
   ]
  },
  {
   "cell_type": "code",
   "execution_count": 21,
   "metadata": {},
   "outputs": [],
   "source": [
    "D = [0, 1, 2, 2, 1]\n",
    "D_ref = [id(D[0]), id(D[1]), id(D[2]), id(D[3]), id(D[4])]"
   ]
  },
  {
   "cell_type": "code",
   "execution_count": null,
   "metadata": {},
   "outputs": [],
   "source": [
    "L = jnp.array([5,2,3])\n",
    "\n",
    "def foo(x):\n",
    "    return L[di(x)]\n",
    "\n",
    "results = jax.vmap(foo)(np.array(D_ref))\n",
    "print(results)"
   ]
  }
 ],
 "metadata": {
  "interpreter": {
   "hash": "c8475a232b822aed66d3bbbb71d7fb1340252d4f7b77b0b9050f60cc7b3f466a"
  },
  "kernelspec": {
   "display_name": "Python 3.10.2 ('fenics')",
   "language": "python",
   "name": "python3"
  },
  "language_info": {
   "codemirror_mode": {
    "name": "ipython",
    "version": 3
   },
   "file_extension": ".py",
   "mimetype": "text/x-python",
   "name": "python",
   "nbconvert_exporter": "python",
   "pygments_lexer": "ipython3",
   "version": "3.10.2"
  },
  "orig_nbformat": 4
 },
 "nbformat": 4,
 "nbformat_minor": 2
}
